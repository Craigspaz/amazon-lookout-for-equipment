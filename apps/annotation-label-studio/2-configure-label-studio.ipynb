{
 "cells": [
  {
   "cell_type": "markdown",
   "id": "18d4539b",
   "metadata": {},
   "source": [
    "# **Amazon Lookout for Equipment** - Time series annotation with LabelStudio\n",
    "\n",
    "*Part 2 - Configuring the labeling task*"
   ]
  },
  {
   "cell_type": "markdown",
   "id": "a650b4f8",
   "metadata": {},
   "source": [
    "## Initialization\n",
    "---"
   ]
  },
  {
   "cell_type": "code",
   "execution_count": null,
   "id": "35d9d6e0",
   "metadata": {},
   "outputs": [],
   "source": [
    "import boto3\n",
    "import json\n",
    "import matplotlib.pyplot as plt\n",
    "import os\n",
    "import pandas as pd\n",
    "import requests\n",
    "import sagemaker\n",
    "\n",
    "from IPython.display import display, Markdown"
   ]
  },
  {
   "cell_type": "code",
   "execution_count": null,
   "id": "b61f478a",
   "metadata": {},
   "outputs": [],
   "source": [
    "prop_cycle = plt.rcParams['axes.prop_cycle']\n",
    "colors = prop_cycle.by_key()['color']"
   ]
  },
  {
   "cell_type": "markdown",
   "id": "64979228",
   "metadata": {},
   "source": [
    "### Collect parameters\n",
    "Run the following cell to collect the parameters needed to run the LabelStudio container. These variables were stored in the previous notebook. Run it to store them in the Jupyter environment:"
   ]
  },
  {
   "cell_type": "code",
   "execution_count": null,
   "id": "da0f21db",
   "metadata": {},
   "outputs": [],
   "source": [
    "%store -r token\n",
    "%store -r notebook_name\n",
    "%store -r current_region\n",
    "\n",
    "token, notebook_name, current_region"
   ]
  },
  {
   "cell_type": "markdown",
   "id": "3346e056",
   "metadata": {},
   "source": [
    "## Project creation\n",
    "---"
   ]
  },
  {
   "cell_type": "markdown",
   "id": "e339af79",
   "metadata": {},
   "source": [
    "### Labeling template configuration\n",
    "When labeling a dataset, you need to provide a template. LabelStudio will use it to generate the user interface for the labeler.\n",
    "\n",
    "To label time series data, we need to now how many different time series there are in the dataset. Let's open it as a first step. The following cell will open a synthetic dataset provided as an example with this repository:"
   ]
  },
  {
   "cell_type": "code",
   "execution_count": null,
   "id": "0412e5f9",
   "metadata": {},
   "outputs": [],
   "source": [
    "fname = os.path.join('example', 'timeseries.csv')\n",
    "df = pd.read_csv(fname, nrows=2)\n",
    "channels = list(df.columns)[1:]\n",
    "channels_list = ','.join(channels)\n",
    "channel_fields = '\\n'.join([f'<Channel column=\"{c}\" legend=\"{c}\" strokeColor=\"{colors[index % len(colors)]}\" displayFormat=\",.1f\" />' for index, c in enumerate(channels)])"
   ]
  },
  {
   "cell_type": "markdown",
   "id": "59563915",
   "metadata": {},
   "source": [
    "Let's now build the labeling template. In LabelStudio, labeling templates are defined using an XML file:"
   ]
  },
  {
   "cell_type": "code",
   "execution_count": null,
   "id": "127af351",
   "metadata": {},
   "outputs": [],
   "source": [
    "template = f\"\"\"<View>\n",
    "    <TimeSeries name=\"ts\" valueType=\"url\" value=\"$csv\"\n",
    "                sep=\",\"\n",
    "                timeColumn=\"{df.columns[0]}\"\n",
    "                timeFormat=\"%Y-%m-%d %H:%M:%S\"\n",
    "                timeDisplayFormat=\"%Y-%m-%d %H:%M:%S\"\n",
    "                overviewChannels=\"{channels_list}\">\n",
    "\n",
    "        {channel_fields}\n",
    "    </TimeSeries>\n",
    "    <TimeSeriesLabels name=\"label\" toName=\"ts\">\n",
    "        <Label value=\"Anomaly\" background=\"red\" />\n",
    "    </TimeSeriesLabels>\n",
    "</View>\"\"\""
   ]
  },
  {
   "cell_type": "markdown",
   "id": "895ba872",
   "metadata": {},
   "source": [
    "Use the following cell to push the example file to a location on Amazon S3 that this notebook has access to:"
   ]
  },
  {
   "cell_type": "code",
   "execution_count": null,
   "id": "c5e4d25c",
   "metadata": {},
   "outputs": [],
   "source": [
    "BUCKET = '<<YOUR-BUCKET>>'\n",
    "PREFIX = '<<YOUR-PREFIX>>'\n",
    "!aws s3 cp $fname s3://$BUCKET/$PREFIX/timeseries.csv"
   ]
  },
  {
   "cell_type": "markdown",
   "id": "ad61a2ef",
   "metadata": {},
   "source": [
    "To ensure your LabelStudio instance will have access to your data in Amazon S3, you need to configure the [**cross-origin resource sharing**](https://docs.aws.amazon.com/AmazonS3/latest/userguide/enabling-cors-examples.html) (CORS) for your bucket. CORS defines a way for client web applications (LabelStudio in our case) that are loaded in one domain to interact with resources in a different domain. To enable CORS on your bucket using the S3 console, follow this documentation and use the following JSON document as CORS configuration. Don't forget to replace the `<<notebook_name>>` and `<<current_region>>` by their values (see above):\n",
    "\n",
    "```json\n",
    "[\n",
    "    {\n",
    "        \"AllowedHeaders\": [\n",
    "            \"*\"\n",
    "        ],\n",
    "        \"AllowedMethods\": [\n",
    "            \"GET\"\n",
    "        ],\n",
    "        \"AllowedOrigins\": [\n",
    "            \"https://<<notebook_name>>.notebook.<<current_region>>.sagemaker.aws\"\n",
    "        ],\n",
    "        \"ExposeHeaders\": [\n",
    "            \"x-amz-server-side-encryption\",\n",
    "            \"x-amz-request-id\",\n",
    "            \"x-amz-id-2\"\n",
    "        ],\n",
    "        \"MaxAgeSeconds\": 3000\n",
    "    }\n",
    "]\n",
    "```"
   ]
  },
  {
   "cell_type": "markdown",
   "id": "aec939a6",
   "metadata": {},
   "source": [
    "### Project creation\n",
    "Once running, a LabelStudio instance can be queried and manipulated through a set of API [**documented here**](https://labelstud.io/api). The following cell will create a new labeling project in the currently running LabelStudio instance:"
   ]
  },
  {
   "cell_type": "code",
   "execution_count": null,
   "id": "b9ca581f",
   "metadata": {},
   "outputs": [],
   "source": [
    "payload = {\n",
    "    \"title\":\"Synthetic data labeling\",\n",
    "    \"description\":\"Time series labeling job for synthetic data\",\n",
    "    \"label_config\": template,\n",
    "    \"is_published\":True\n",
    "}\n",
    "\n",
    "headers = {\n",
    "    'Content-Type': 'application/json',\n",
    "    'Authorization': f'Token {token}'\n",
    "}\n",
    "\n",
    "response = requests.post('http://localhost:8080/api/projects/', headers=headers, data=json.dumps(payload))\n",
    "project_id = response.json()['id']"
   ]
  },
  {
   "cell_type": "markdown",
   "id": "05aa2c8f",
   "metadata": {},
   "source": [
    "### S3 storage configuration\n",
    "The following part will configure Amazon S3 as a source to provide the time series to label. To configure this, LabelStudio requires temporary credentials to synchronize the data and initialize the tasks. Let's use the last credentials obtained while running this session in our notebook:"
   ]
  },
  {
   "cell_type": "code",
   "execution_count": null,
   "id": "58c6b29a",
   "metadata": {},
   "outputs": [],
   "source": [
    "current_credentials = boto3.Session().get_credentials().get_frozen_credentials()\n",
    "\n",
    "ACCESS_KEY    = getattr(current_credentials, 'access_key')\n",
    "SECRET_KEY    = getattr(current_credentials, 'secret_key')\n",
    "SESSION_TOKEN = getattr(current_credentials, 'token')"
   ]
  },
  {
   "cell_type": "markdown",
   "id": "391cf53a",
   "metadata": {},
   "source": [
    "Using these credentials, we will create a new Amazon S3 data source in our LabelStudio instance:"
   ]
  },
  {
   "cell_type": "code",
   "execution_count": null,
   "id": "f48c7dfd",
   "metadata": {},
   "outputs": [],
   "source": [
    "payload = {\n",
    "    \"presign\": True,\n",
    "    \"title\": \"Time series data source\",\n",
    "    \"bucket\": BUCKET,\n",
    "    \"prefix\": PREFIX + '/',\n",
    "    \"regex_filter\": \".*csv\",\n",
    "    \"use_blob_urls\": True,\n",
    "    \"aws_access_key_id\": ACCESS_KEY,\n",
    "    \"aws_secret_access_key\": SECRET_KEY,\n",
    "    \"aws_session_token\": SESSION_TOKEN,\n",
    "    \"region_name\": current_region,\n",
    "    \"recursive_scan\": True,\n",
    "    \"project\": project_id\n",
    "}\n",
    "\n",
    "response = requests.post('http://localhost:8080/api/storages/s3', headers=headers, data=json.dumps(payload))\n",
    "storage_id = response.json()['id']"
   ]
  },
  {
   "cell_type": "markdown",
   "id": "e1a29dfa",
   "metadata": {},
   "source": [
    "Synchronizing allows LabelStudio to search for any `csv` file located under the provided data source:"
   ]
  },
  {
   "cell_type": "code",
   "execution_count": null,
   "id": "c845b1a9",
   "metadata": {},
   "outputs": [],
   "source": [
    "payload = {\n",
    "    \"project\": project_id\n",
    "}\n",
    "\n",
    "response = requests.post(f'http://localhost:8080/api/storages/s3/{storage_id}/sync', headers=headers, data=json.dumps(payload))\n",
    "task_id = response.json()['id']"
   ]
  },
  {
   "cell_type": "markdown",
   "id": "a5e8a4ef",
   "metadata": {},
   "source": [
    "## Label your time series\n",
    "---"
   ]
  },
  {
   "cell_type": "code",
   "execution_count": null,
   "id": "c6d819ba",
   "metadata": {},
   "outputs": [],
   "source": [
    "display(Markdown(f'[**Click here**](https://{notebook_name}.notebook.{current_region}.sagemaker.aws/proxy/8080/) to open **LabelStudio** in a new tab'))"
   ]
  },
  {
   "cell_type": "markdown",
   "id": "ab0626d0",
   "metadata": {},
   "source": [
    "When you click on the previous link you will open your LabelStudio instance into a new tab. You will then be given the opportunity to login. When you ran the LabelStudio Docker image in the previous notebook, you also initialized a user by defining a `username` and `password`. Use these credentials to log in:\n",
    "\n",
    "<img src=\"assets/label-studio-login.png\" alt=\"Login\" />"
   ]
  },
  {
   "cell_type": "markdown",
   "id": "f7e44751",
   "metadata": {},
   "source": [
    "Once logged it, you should already see a project:\n",
    "    \n",
    "<img src=\"assets/label-studio-project.png\" alt=\"Projects list\" />\n",
    "\n",
    "Click anywhere on this project to bring up the time series to annotate. Each time series dataset will appear as an individual task to label:\n",
    "\n",
    "<img src=\"assets/label-studio-tasks.png\" alt=\"Tasks list\" />\n",
    "\n",
    "Scroll down to the bottom of the time series view on the right and reduce the time period using the overview slider until the time series plot appear. You can then start labeling your data (check out the [**LabelStudio website**](https://labelstud.io/) for more details about the labeling process):\n",
    "\n",
    "<img src=\"assets/label-studio-overview.png\" alt=\"Labeling time series data\" />\n",
    "\n",
    "Once you have a few labels done, scroll up and click on the `Submit` button. The annotations are saved in the local database from LabelStudio (you can also configure a target location on Amazon S3)."
   ]
  },
  {
   "cell_type": "markdown",
   "id": "a796e2b0",
   "metadata": {},
   "source": [
    "## Collect your annotations\n",
    "---\n",
    "Use the following API call to get the labels from your previous labeling job:"
   ]
  },
  {
   "cell_type": "code",
   "execution_count": null,
   "id": "46519ee0",
   "metadata": {},
   "outputs": [],
   "source": [
    "payload = {\n",
    "    \"id\": task_id\n",
    "}\n",
    "\n",
    "response = requests.get(f'http://localhost:8080/api/tasks/{task_id}/annotations', headers=headers, data=json.dumps(payload))\n",
    "annotations_df = pd.DataFrame([result['value'] for result in response.json()[0]['result']])[['start', 'end']]\n",
    "annotations_df"
   ]
  },
  {
   "cell_type": "markdown",
   "id": "25a30bbd",
   "metadata": {},
   "source": [
    "You can now save this dataframe as a CSV file ready to be used by Lookout for Equipment:"
   ]
  },
  {
   "cell_type": "code",
   "execution_count": null,
   "id": "16e3f1fd",
   "metadata": {},
   "outputs": [],
   "source": [
    "annotations_df.to_csv('labels.csv', index=None, header=None)"
   ]
  },
  {
   "cell_type": "markdown",
   "id": "9060a617",
   "metadata": {},
   "source": [
    "## Cleanup\n",
    "---\n",
    "If you want to stop LabelStudio, just go back into the first notebook and click on the `Interrupt the kernel` button in this notebooks toolbar.\n",
    "\n",
    "If you don't want to keep your labeling projects with your ongoing label work, you can safely delete the `/home/ec2-user/SageMaker/label-studio-data` folder where all the label data is stored.\n",
    "\n",
    "**Do not delete** this folder if you want to continue your labeling work later, or isn't done processing the labeling job outputs."
   ]
  }
 ],
 "metadata": {
  "kernelspec": {
   "display_name": "conda_python3",
   "language": "python",
   "name": "conda_python3"
  },
  "language_info": {
   "codemirror_mode": {
    "name": "ipython",
    "version": 3
   },
   "file_extension": ".py",
   "mimetype": "text/x-python",
   "name": "python",
   "nbconvert_exporter": "python",
   "pygments_lexer": "ipython3",
   "version": "3.6.13"
  }
 },
 "nbformat": 4,
 "nbformat_minor": 5
}
