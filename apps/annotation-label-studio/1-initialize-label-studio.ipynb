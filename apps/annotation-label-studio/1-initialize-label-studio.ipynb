{
 "cells": [
  {
   "cell_type": "markdown",
   "id": "48fbdcb3",
   "metadata": {},
   "source": [
    "# **Amazon Lookout for Equipment** - Time series annotation with LabelStudio\n",
    "\n",
    "*Part 1 - Initialization*"
   ]
  },
  {
   "cell_type": "markdown",
   "id": "27f15f61",
   "metadata": {},
   "source": [
    "## Initialization\n",
    "---\n",
    "### Imports"
   ]
  },
  {
   "cell_type": "code",
   "execution_count": null,
   "id": "3557b01b",
   "metadata": {},
   "outputs": [],
   "source": [
    "import boto3\n",
    "\n",
    "from binascii import hexlify\n",
    "from json import load\n",
    "from os import urandom\n",
    "from uuid import uuid4"
   ]
  },
  {
   "cell_type": "markdown",
   "id": "11cfd725",
   "metadata": {},
   "source": [
    "### Helper functions"
   ]
  },
  {
   "cell_type": "code",
   "execution_count": null,
   "id": "abae8301",
   "metadata": {},
   "outputs": [],
   "source": [
    "def get_notebook_name():\n",
    "    log_path = '/opt/ml/metadata/resource-metadata.json'\n",
    "    with open(log_path, 'r') as logs:\n",
    "        _logs = load(logs)\n",
    "    return _logs['ResourceName']"
   ]
  },
  {
   "cell_type": "markdown",
   "id": "0173c40c",
   "metadata": {},
   "source": [
    "### Parameters\n",
    "Run the following cell to collect the parameters needed to run the LabelStudio container:"
   ]
  },
  {
   "cell_type": "code",
   "execution_count": null,
   "id": "985e434a",
   "metadata": {},
   "outputs": [],
   "source": [
    "notebook_name  = get_notebook_name()\n",
    "session        = boto3.session.Session()\n",
    "current_region = session.region_name"
   ]
  },
  {
   "cell_type": "markdown",
   "id": "e1844cc3",
   "metadata": {},
   "source": [
    "### Setup authentication\n",
    "You will need to authenticate yourself against LabelStudio. Update the following cell before running it to setup your `user`, `password` and `token`:"
   ]
  },
  {
   "cell_type": "code",
   "execution_count": null,
   "id": "08f97230",
   "metadata": {},
   "outputs": [],
   "source": [
    "# Must follow a valid email address format:\n",
    "username = 'username@domain.com'\n",
    "\n",
    "# Fill in a password for your LabelStudio user:\n",
    "password = 'ChooseAPassword'\n",
    "\n",
    "# You can uncomment the following line to generate a unique token:\n",
    "# token = hexlify(urandom(20)).decode()\n",
    "token = 'GenerateAnAPIToken'\n",
    "print(token)"
   ]
  },
  {
   "cell_type": "markdown",
   "id": "52d233f7",
   "metadata": {},
   "source": [
    "Let's store these variables in the Jupyter environment so that we can use them in the next notebook:"
   ]
  },
  {
   "cell_type": "code",
   "execution_count": null,
   "id": "0ba3e4a6",
   "metadata": {},
   "outputs": [],
   "source": [
    "%store token\n",
    "%store notebook_name\n",
    "%store current_region"
   ]
  },
  {
   "cell_type": "markdown",
   "id": "9cb9e365",
   "metadata": {},
   "source": [
    "## Run LabelStudio\n",
    "---\n",
    "Run the following cell to create a shell script which will download a Docker image for LabelStudio and run it:"
   ]
  },
  {
   "cell_type": "code",
   "execution_count": null,
   "id": "f5e39c17",
   "metadata": {},
   "outputs": [],
   "source": [
    "with open('label-studio.sh', 'w') as f:\n",
    "    f.write('#!/bin/bash\\n')\n",
    "    f.write(f\"\"\"docker run \\\n",
    "    -it \\\n",
    "    -p 8080:8080 \\\n",
    "    -v /home/ec2-user/SageMaker/label-studio-data:/label-studio/data \\\n",
    "    heartexlabs/label-studio:latest label-studio start --username {username} --password {password} --user-token {token} \\\n",
    "    --host https://{notebook_name}.notebook.{current_region}.sagemaker.aws/proxy/8080\"\"\")"
   ]
  },
  {
   "cell_type": "markdown",
   "id": "53964220",
   "metadata": {},
   "source": [
    "The following cell will run the script you just created and launch LabelStudio. Once you see the following message, you can cruise over the next notebook:\n",
    "\n",
    "```\n",
    "Django version 3.1.14, using settings 'core.settings.label_studio'\n",
    "Starting development server at http://0.0.0.0:8080/\n",
    "Quit the server with CONTROL-C.\n",
    "```\n",
    "\n",
    "The following cell will stay in a running state (note the `[*]` next to it) until you forcefully stop it (note that this will also stop LabelStudio):"
   ]
  },
  {
   "cell_type": "code",
   "execution_count": null,
   "id": "33d2cb04",
   "metadata": {},
   "outputs": [],
   "source": [
    "!source ./label-studio.sh"
   ]
  },
  {
   "cell_type": "markdown",
   "id": "fd16effb",
   "metadata": {},
   "source": [
    "## Cleanup\n",
    "---\n",
    "If you want to stop LabelStudio, just click on the `Interrupt the kernel` button in this notebooks toolbar.\n",
    "\n",
    "If you don't want to keep your labeling projects with your ongoing label work, you can safely delete the `/home/ec2-user/SageMaker/label-studio-data` folder where all the label data is stored.\n",
    "\n",
    "**Do not delete** this folder if you want to continue your labeling work later, or isn't done processing the labeling job outputs."
   ]
  }
 ],
 "metadata": {
  "kernelspec": {
   "display_name": "conda_python3",
   "language": "python",
   "name": "conda_python3"
  },
  "language_info": {
   "codemirror_mode": {
    "name": "ipython",
    "version": 3
   },
   "file_extension": ".py",
   "mimetype": "text/x-python",
   "name": "python",
   "nbconvert_exporter": "python",
   "pygments_lexer": "ipython3",
   "version": "3.6.13"
  }
 },
 "nbformat": 4,
 "nbformat_minor": 5
}
