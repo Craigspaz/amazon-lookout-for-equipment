{
 "cells": [
  {
   "cell_type": "markdown",
   "id": "57a7379f",
   "metadata": {},
   "source": [
    "# **Amazon Lookout for Equipment** - Getting started\n",
    "*Part 2 - Dataset creation*"
   ]
  },
  {
   "cell_type": "markdown",
   "id": "e3b8ca15",
   "metadata": {},
   "source": [
    "## Initialization\n",
    "---\n",
    "This repository is structured as follow:\n",
    "\n",
    "```sh\n",
    ". lookout-equipment-demo\n",
    "|\n",
    "├── data/\n",
    "|   ├── interim                          # Temporary intermediate data are stored here\n",
    "|   ├── processed                        # Finalized datasets are usually stored here\n",
    "|   |                                    # before they are sent to S3 to allow the\n",
    "|   |                                    # service to reach them\n",
    "|   └── raw                              # Immutable original data are stored here\n",
    "|\n",
    "├── getting_started/\n",
    "|   ├── 1_data_preparation.ipynb\n",
    "|   ├── 2_dataset_creation.ipynb         <<< THIS NOTEBOOK <<<\n",
    "|   ├── 3_model_training.ipynb\n",
    "|   ├── 4_model_evaluation.ipynb\n",
    "|   ├── 5_inference_scheduling.ipynb\n",
    "|   └── 6_cleanup.ipynb\n",
    "|\n",
    "└── utils/\n",
    "    └── lookout_equipment_utils.py\n",
    "```"
   ]
  },
  {
   "cell_type": "markdown",
   "id": "fb29ded0",
   "metadata": {},
   "source": [
    "### Notebook configuration update"
   ]
  },
  {
   "cell_type": "code",
   "execution_count": 2,
   "id": "1ea23113",
   "metadata": {},
   "outputs": [],
   "source": [
    "!pip install --quiet --upgrade sagemaker tqdm lookoutequipment"
   ]
  },
  {
   "cell_type": "markdown",
   "id": "ffda5777",
   "metadata": {},
   "source": [
    "### Imports"
   ]
  },
  {
   "cell_type": "code",
   "execution_count": 3,
   "id": "76c78be1",
   "metadata": {},
   "outputs": [],
   "source": [
    "import boto3\n",
    "import config\n",
    "import os\n",
    "import pandas as pd\n",
    "import sagemaker\n",
    "import sys\n",
    "import time\n",
    "\n",
    "from datetime import datetime\n",
    "\n",
    "# SDK / toolbox for managing Lookout for Equipment API calls:\n",
    "import lookoutequipment as lookout"
   ]
  },
  {
   "cell_type": "code",
   "execution_count": 4,
   "id": "0a11584f",
   "metadata": {},
   "outputs": [],
   "source": [
    "PROCESSED_DATA = os.path.join('..', 'data', 'processed', 'getting-started')\n",
    "TRAIN_DATA     = os.path.join(PROCESSED_DATA, 'training-data')\n",
    "\n",
    "ROLE_ARN       = sagemaker.get_execution_role()\n",
    "REGION_NAME    = boto3.session.Session().region_name\n",
    "DATASET_NAME   = config.DATASET_NAME\n",
    "BUCKET         = config.BUCKET\n",
    "PREFIX         = config.PREFIX_TRAINING"
   ]
  },
  {
   "cell_type": "markdown",
   "id": "5340da0f",
   "metadata": {},
   "source": [
    "## Create a dataset\n",
    "---"
   ]
  },
  {
   "cell_type": "code",
   "execution_count": 5,
   "id": "5685f785",
   "metadata": {},
   "outputs": [],
   "source": [
    "lookout_dataset = lookout.LookoutEquipmentDataset(\n",
    "    dataset_name=DATASET_NAME,\n",
    "    component_root_dir=TRAIN_DATA,\n",
    "    access_role_arn=ROLE_ARN\n",
    ")"
   ]
  },
  {
   "cell_type": "markdown",
   "id": "b8c88af5",
   "metadata": {},
   "source": [
    "Let's double check the schema detected for our dataset to ensure we are pointing to the right data:"
   ]
  },
  {
   "cell_type": "code",
   "execution_count": 6,
   "id": "862e9cb4",
   "metadata": {},
   "outputs": [
    {
     "name": "stdout",
     "output_type": "stream",
     "text": [
      "{'Components': [{'Columns': [{'Name': 'Timestamp', 'Type': 'DATETIME'},\n",
      "                             {'Name': 'Sensor0', 'Type': 'DOUBLE'},\n",
      "                             {'Name': 'Sensor1', 'Type': 'DOUBLE'},\n",
      "                             {'Name': 'Sensor2', 'Type': 'DOUBLE'},\n",
      "                             {'Name': 'Sensor3', 'Type': 'DOUBLE'},\n",
      "                             {'Name': 'Sensor4', 'Type': 'DOUBLE'},\n",
      "                             {'Name': 'Sensor5', 'Type': 'DOUBLE'},\n",
      "                             {'Name': 'Sensor6', 'Type': 'DOUBLE'},\n",
      "                             {'Name': 'Sensor7', 'Type': 'DOUBLE'},\n",
      "                             {'Name': 'Sensor8', 'Type': 'DOUBLE'},\n",
      "                             {'Name': 'Sensor9', 'Type': 'DOUBLE'},\n",
      "                             {'Name': 'Sensor10', 'Type': 'DOUBLE'},\n",
      "                             {'Name': 'Sensor11', 'Type': 'DOUBLE'},\n",
      "                             {'Name': 'Sensor24', 'Type': 'DOUBLE'},\n",
      "                             {'Name': 'Sensor25', 'Type': 'DOUBLE'},\n",
      "                             {'Name': 'Sensor26', 'Type': 'DOUBLE'},\n",
      "                             {'Name': 'Sensor27', 'Type': 'DOUBLE'},\n",
      "                             {'Name': 'Sensor28', 'Type': 'DOUBLE'},\n",
      "                             {'Name': 'Sensor29', 'Type': 'DOUBLE'},\n",
      "                             {'Name': 'Sensor12', 'Type': 'DOUBLE'},\n",
      "                             {'Name': 'Sensor13', 'Type': 'DOUBLE'},\n",
      "                             {'Name': 'Sensor14', 'Type': 'DOUBLE'},\n",
      "                             {'Name': 'Sensor15', 'Type': 'DOUBLE'},\n",
      "                             {'Name': 'Sensor16', 'Type': 'DOUBLE'},\n",
      "                             {'Name': 'Sensor17', 'Type': 'DOUBLE'},\n",
      "                             {'Name': 'Sensor18', 'Type': 'DOUBLE'},\n",
      "                             {'Name': 'Sensor19', 'Type': 'DOUBLE'},\n",
      "                             {'Name': 'Sensor20', 'Type': 'DOUBLE'},\n",
      "                             {'Name': 'Sensor21', 'Type': 'DOUBLE'},\n",
      "                             {'Name': 'Sensor22', 'Type': 'DOUBLE'},\n",
      "                             {'Name': 'Sensor23', 'Type': 'DOUBLE'}],\n",
      "                 'ComponentName': 'centrifugal-pump'}]}\n"
     ]
    }
   ],
   "source": [
    "import pprint\n",
    "pp = pprint.PrettyPrinter(depth=5)\n",
    "pp.pprint(eval(lookout_dataset.dataset_schema))"
   ]
  },
  {
   "cell_type": "markdown",
   "id": "8a7c21cd",
   "metadata": {},
   "source": [
    "The following method encapsulate the [**CreateDataset**](https://docs.aws.amazon.com/lookout-for-equipment/latest/ug/API_CreateDataset.html) API:\n",
    "\n",
    "```python\n",
    "lookout_client.create_dataset(\n",
    "    DatasetName=self.dataset_name,\n",
    "    DatasetSchema={\n",
    "        'InlineDataSchema': \"schema\"\n",
    "    }\n",
    ")\n",
    "```"
   ]
  },
  {
   "cell_type": "code",
   "execution_count": 8,
   "id": "9aedf56c",
   "metadata": {},
   "outputs": [
    {
     "name": "stdout",
     "output_type": "stream",
     "text": [
      "Dataset \"getting-started-pump\" does not exist, creating it...\n",
      "\n"
     ]
    },
    {
     "data": {
      "text/plain": [
       "{'DatasetName': 'getting-started-pump',\n",
       " 'DatasetArn': 'arn:aws:lookoutequipment:eu-west-1:123031033346:dataset/getting-started-pump/5977e2f5-9ace-4602-a8cd-3f6f3aed9096',\n",
       " 'Status': 'CREATED',\n",
       " 'ResponseMetadata': {'RequestId': '11838471-94f7-46ef-89fd-f26b57b4a317',\n",
       "  'HTTPStatusCode': 200,\n",
       "  'HTTPHeaders': {'x-amzn-requestid': '11838471-94f7-46ef-89fd-f26b57b4a317',\n",
       "   'content-type': 'application/x-amz-json-1.0',\n",
       "   'content-length': '186',\n",
       "   'date': 'Wed, 30 Mar 2022 08:14:41 GMT'},\n",
       "  'RetryAttempts': 0}}"
      ]
     },
     "execution_count": 8,
     "metadata": {},
     "output_type": "execute_result"
    }
   ],
   "source": [
    "lookout_dataset.create()"
   ]
  },
  {
   "cell_type": "markdown",
   "id": "b3e3ee62",
   "metadata": {},
   "source": [
    "The dataset is now created, but it is empty and ready to receive some timeseries data that we will ingest from the S3 location prepared in the previous notebook:"
   ]
  },
  {
   "cell_type": "markdown",
   "id": "81c8b3e5",
   "metadata": {},
   "source": [
    "![Dataset created](assets/dataset-created.png)"
   ]
  },
  {
   "cell_type": "markdown",
   "id": "6b5a0276",
   "metadata": {},
   "source": [
    "## Ingest data into a dataset\n",
    "---\n",
    "Let's double check the values of all the parameters that will be used to ingest some data into an existing Lookout for Equipment dataset:"
   ]
  },
  {
   "cell_type": "code",
   "execution_count": 10,
   "id": "6dc94113",
   "metadata": {},
   "outputs": [
    {
     "data": {
      "text/plain": [
       "('arn:aws:iam::123031033346:role/service-role/AmazonSageMaker-ExecutionRole-20200922T205159',\n",
       " 'lookout-equipment-getting-started',\n",
       " 'getting_started/training-data/',\n",
       " 'getting-started-pump')"
      ]
     },
     "execution_count": 10,
     "metadata": {},
     "output_type": "execute_result"
    }
   ],
   "source": [
    "ROLE_ARN, BUCKET, PREFIX, DATASET_NAME"
   ]
  },
  {
   "cell_type": "markdown",
   "id": "8c8650f6",
   "metadata": {},
   "source": [
    "Launch the ingestion job in the Lookout for Equipment dataset: the following method encapsulates the [**StartDataIngestionJob**](https://docs.aws.amazon.com/lookout-for-equipment/latest/ug/API_StartDataIngestionJob.html) API:\n",
    "\n",
    "```python\n",
    "lookout_client.start_data_ingestion_job(\n",
    "    DatasetName=DATASET_NAME,\n",
    "    RoleArn=ROLE_ARN, \n",
    "    IngestionInputConfiguration={ \n",
    "        'S3InputConfiguration': { \n",
    "            'Bucket': BUCKET,\n",
    "            'Prefix': PREFIX\n",
    "        }\n",
    "    }\n",
    ")\n",
    "```"
   ]
  },
  {
   "cell_type": "code",
   "execution_count": 11,
   "id": "99e3400a",
   "metadata": {},
   "outputs": [],
   "source": [
    "response = lookout_dataset.ingest_data(BUCKET, PREFIX)"
   ]
  },
  {
   "cell_type": "markdown",
   "id": "113bd23c",
   "metadata": {},
   "source": [
    "The ingestion is launched. With this amount of data (around 50 MB), it should take between less than 5 minutes:\n",
    "\n",
    "![dataset_schema](assets/dataset-ingestion-in-progress.png)"
   ]
  },
  {
   "cell_type": "markdown",
   "id": "575931cd",
   "metadata": {},
   "source": [
    "We use the following cell to monitor the ingestion process by calling the following method, which encapsulates the [**DescribeDataIngestionJob**](https://docs.aws.amazon.com/lookout-for-equipment/latest/ug/API_DescribeDataIngestionJob.html) API and runs it every 60 seconds:"
   ]
  },
  {
   "cell_type": "code",
   "execution_count": 12,
   "id": "4eb9df93",
   "metadata": {},
   "outputs": [
    {
     "name": "stdout",
     "output_type": "stream",
     "text": [
      "2022-03-30 08:18:59 | Data ingestion: IN_PROGRESS\n",
      "2022-03-30 08:19:59 | Data ingestion: IN_PROGRESS\n",
      "2022-03-30 08:20:59 | Data ingestion: SUCCESS\n"
     ]
    }
   ],
   "source": [
    "lookout_dataset.poll_data_ingestion(sleep_time=60)"
   ]
  },
  {
   "cell_type": "markdown",
   "id": "3913e800",
   "metadata": {},
   "source": [
    "In case any issue arise, you can inspect the API response available as a JSON document:"
   ]
  },
  {
   "cell_type": "code",
   "execution_count": 13,
   "id": "91d7b5ab",
   "metadata": {},
   "outputs": [
    {
     "data": {
      "text/plain": [
       "{'JobId': 'ccb31f90e1893aac76b989e1e4e948c2',\n",
       " 'DatasetArn': 'arn:aws:lookoutequipment:eu-west-1:123031033346:dataset/getting-started-pump/5977e2f5-9ace-4602-a8cd-3f6f3aed9096',\n",
       " 'IngestionInputConfiguration': {'S3InputConfiguration': {'Bucket': 'lookout-equipment-getting-started',\n",
       "   'Prefix': 'getting_started/training-data/'}},\n",
       " 'RoleArn': 'arn:aws:iam::123031033346:role/service-role/AmazonSageMaker-ExecutionRole-20200922T205159',\n",
       " 'CreatedAt': datetime.datetime(2022, 3, 30, 8, 17, 7, 757000, tzinfo=tzlocal()),\n",
       " 'Status': 'SUCCESS',\n",
       " 'ResponseMetadata': {'RequestId': '1a035b2a-fab8-45df-ae4c-a4a48287beb9',\n",
       "  'HTTPStatusCode': 200,\n",
       "  'HTTPHeaders': {'x-amzn-requestid': '1a035b2a-fab8-45df-ae4c-a4a48287beb9',\n",
       "   'content-type': 'application/x-amz-json-1.0',\n",
       "   'content-length': '1081',\n",
       "   'date': 'Wed, 30 Mar 2022 08:20:59 GMT'},\n",
       "  'RetryAttempts': 0}}"
      ]
     },
     "execution_count": 13,
     "metadata": {},
     "output_type": "execute_result"
    }
   ],
   "source": [
    "lookout_dataset.ingestion_job_response"
   ]
  },
  {
   "cell_type": "markdown",
   "id": "480a378f",
   "metadata": {},
   "source": [
    "The ingestion should now be complete as can be seen in the console:\n",
    "\n",
    "![Ingestion done](assets/dataset-ingestion-done.png)"
   ]
  },
  {
   "cell_type": "markdown",
   "id": "b6c5a8a3",
   "metadata": {},
   "source": [
    "## Conclusion\n",
    "---"
   ]
  },
  {
   "cell_type": "markdown",
   "id": "2a9e0f55",
   "metadata": {},
   "source": [
    "In this notebook, we created a **Lookout for Equipment dataset** and ingested the S3 data previously uploaded into this dataset. **Move now to the next notebook to train a model based on these data.**"
   ]
  }
 ],
 "metadata": {
  "kernelspec": {
   "display_name": "conda_python3",
   "language": "python",
   "name": "conda_python3"
  },
  "language_info": {
   "codemirror_mode": {
    "name": "ipython",
    "version": 3
   },
   "file_extension": ".py",
   "mimetype": "text/x-python",
   "name": "python",
   "nbconvert_exporter": "python",
   "pygments_lexer": "ipython3",
   "version": "3.6.13"
  }
 },
 "nbformat": 4,
 "nbformat_minor": 5
}
