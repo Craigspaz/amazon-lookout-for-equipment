{
 "cells": [
  {
   "cell_type": "markdown",
   "id": "cardiac-rogers",
   "metadata": {},
   "source": [
    "# **Amazon Lookout for Equipment** - Getting started\n",
    "*Part 3 - Model training*"
   ]
  },
  {
   "cell_type": "markdown",
   "id": "modular-shock",
   "metadata": {},
   "source": [
    "## Initialization\n",
    "---\n",
    "This repository is structured as follow:\n",
    "\n",
    "```sh\n",
    ". lookout-equipment-demo\n",
    "|\n",
    "├── data/\n",
    "|   ├── interim                          # Temporary intermediate data are stored here\n",
    "|   ├── processed                        # Finalized datasets are usually stored here\n",
    "|   |                                    # before they are sent to S3 to allow the\n",
    "|   |                                    # service to reach them\n",
    "|   └── raw                              # Immutable original data are stored here\n",
    "|\n",
    "├── getting_started/\n",
    "|   ├── 1_data_preparation.ipynb\n",
    "|   ├── 2_dataset_creation.ipynb\n",
    "|   ├── 3_model_training.ipynb           <<< THIS NOTEBOOK <<<\n",
    "|   ├── 4_model_evaluation.ipynb\n",
    "|   ├── 5_inference_scheduling.ipynb\n",
    "|   └── 6_cleanup.ipynb\n",
    "|\n",
    "└── utils/\n",
    "    └── lookout_equipment_utils.py\n",
    "```"
   ]
  },
  {
   "cell_type": "markdown",
   "id": "selective-citizenship",
   "metadata": {},
   "source": [
    "### Notebook configuration update\n",
    "Amazon Lookout for Equipment being a very recent service, we need to make sure that we have access to the latest version of the AWS Python packages. If you see a `pip` dependency error, check that the `boto3` version is ok before moving forward."
   ]
  },
  {
   "cell_type": "code",
   "execution_count": 1,
   "id": "emerging-bible",
   "metadata": {},
   "outputs": [
    {
     "name": "stdout",
     "output_type": "stream",
     "text": [
      "boto3 version: 1.17.50 (should be >= 1.17.48 to include Lookout for Equipment API)\n"
     ]
    },
    {
     "data": {
      "text/html": [
       "<script>Jupyter.notebook.kernel.restart()</script>"
      ],
      "text/plain": [
       "<IPython.core.display.HTML object>"
      ]
     },
     "execution_count": 1,
     "metadata": {},
     "output_type": "execute_result"
    }
   ],
   "source": [
    "!pip install --quiet --upgrade boto3 sagemaker tqdm\n",
    "\n",
    "import boto3\n",
    "print(f'boto3 version: {boto3.__version__} (should be >= 1.17.48 to include Lookout for Equipment API)')\n",
    "\n",
    "# Restart the current notebook to ensure we take into account the previous updates:\n",
    "from IPython.core.display import HTML\n",
    "HTML(\"<script>Jupyter.notebook.kernel.restart()</script>\")"
   ]
  },
  {
   "cell_type": "markdown",
   "id": "beautiful-billion",
   "metadata": {},
   "source": [
    "### Imports"
   ]
  },
  {
   "cell_type": "code",
   "execution_count": 2,
   "id": "exact-feeding",
   "metadata": {},
   "outputs": [],
   "source": [
    "import boto3\n",
    "import config\n",
    "import os\n",
    "import pandas as pd\n",
    "import sagemaker\n",
    "import sys\n",
    "\n",
    "# Helper functions for managing Lookout for Equipment API calls:\n",
    "sys.path.append('../utils')\n",
    "import lookout_equipment_utils as lookout"
   ]
  },
  {
   "cell_type": "code",
   "execution_count": 3,
   "id": "flexible-belgium",
   "metadata": {},
   "outputs": [],
   "source": [
    "ROLE_ARN     = sagemaker.get_execution_role()\n",
    "REGION_NAME  = boto3.session.Session().region_name\n",
    "BUCKET       = config.BUCKET\n",
    "PREFIX       = config.PREFIX_LABEL\n",
    "DATASET_NAME = config.DATASET_NAME\n",
    "MODEL_NAME   = config.MODEL_NAME"
   ]
  },
  {
   "cell_type": "markdown",
   "id": "billion-kazakhstan",
   "metadata": {},
   "source": [
    "Based on the label time ranges, we will use the following time ranges:\n",
    "\n",
    "* **Train set:** 1st January 2019 - 31st July 2019: Lookout for Equipment needs at least 180 days of training data and this period contains a few labelled ranges with some anomalies.\n",
    "* **Evaluation set:** 1st August 2019 - 27th October 2019 *(this test set includes both normal and abnormal data to evaluate our model on)*"
   ]
  },
  {
   "cell_type": "code",
   "execution_count": 4,
   "id": "vocational-agent",
   "metadata": {},
   "outputs": [
    {
     "name": "stdout",
     "output_type": "stream",
     "text": [
      "  Training period | from 2019-01-01 00:00:00 to 2019-07-31 00:00:00\n",
      "Evaluation period | from 2019-08-01 00:00:00 to 2019-10-27 00:00:00\n"
     ]
    }
   ],
   "source": [
    "# Configuring time ranges:\n",
    "training_start   = pd.to_datetime('2019-01-01 00:00:00')\n",
    "training_end     = pd.to_datetime('2019-07-31 00:00:00')\n",
    "evaluation_start = pd.to_datetime('2019-08-01 00:00:00')\n",
    "evaluation_end   = pd.to_datetime('2019-10-27 00:00:00')\n",
    "\n",
    "print(f'  Training period | from {training_start} to {training_end}')\n",
    "print(f'Evaluation period | from {evaluation_start} to {evaluation_end}')"
   ]
  },
  {
   "cell_type": "markdown",
   "id": "following-dover",
   "metadata": {},
   "source": [
    "## Model training\n",
    "---"
   ]
  },
  {
   "cell_type": "code",
   "execution_count": 5,
   "id": "psychological-american",
   "metadata": {},
   "outputs": [],
   "source": [
    "# Prepare the model parameters:\n",
    "lookout_model = lookout.LookoutEquipmentModel(model_name=MODEL_NAME,\n",
    "                                              dataset_name=DATASET_NAME,\n",
    "                                              region_name=REGION_NAME)\n",
    "\n",
    "# Set the training / evaluation split date:\n",
    "lookout_model.set_time_periods(evaluation_start,\n",
    "                               evaluation_end,\n",
    "                               training_start,\n",
    "                               training_end)\n",
    "\n",
    "# Set the label data location:\n",
    "lookout_model.set_label_data(bucket=BUCKET, \n",
    "                             prefix=PREFIX,\n",
    "                             access_role_arn=ROLE_ARN)\n",
    "\n",
    "# This sets up the rate the service will resample the data before \n",
    "# training: we will keep the original sampling rate in this example\n",
    "# (5 minutes), but feel free to use a larger sampling rate to accelerate \n",
    "# the training time:\n",
    "\n",
    "# lookout_model.set_target_sampling_rate(sampling_rate='PT15M')"
   ]
  },
  {
   "cell_type": "markdown",
   "id": "tested-dominant",
   "metadata": {},
   "source": [
    "The following method encapsulates a call to the [**CreateModel**](https://docs.aws.amazon.com/lookout-for-equipment/latest/ug/API_CreateModel.html) API:"
   ]
  },
  {
   "cell_type": "code",
   "execution_count": 6,
   "id": "recent-knight",
   "metadata": {},
   "outputs": [
    {
     "data": {
      "text/plain": [
       "{'ModelArn': 'arn:aws:lookoutequipment:eu-west-1:123031033346:model/getting-started-pump-5min-model/4b8327d6-fc28-420c-b6f0-e7fb9a6be502',\n",
       " 'Status': 'IN_PROGRESS',\n",
       " 'ResponseMetadata': {'RequestId': '36d43ee1-70ca-45ac-9b9c-a3ee0fde4124',\n",
       "  'HTTPStatusCode': 200,\n",
       "  'HTTPHeaders': {'x-amzn-requestid': '36d43ee1-70ca-45ac-9b9c-a3ee0fde4124',\n",
       "   'content-type': 'application/x-amz-json-1.0',\n",
       "   'content-length': '160',\n",
       "   'date': 'Tue, 13 Apr 2021 12:47:21 GMT'},\n",
       "  'RetryAttempts': 0}}"
      ]
     },
     "execution_count": 6,
     "metadata": {},
     "output_type": "execute_result"
    }
   ],
   "source": [
    "# Actually create the model and train it:\n",
    "lookout_model.train()"
   ]
  },
  {
   "cell_type": "markdown",
   "id": "greater-tennis",
   "metadata": {},
   "source": [
    "A training is now in progress as captured by the console:\n",
    "    \n",
    "![Training in progress](assets/create-model-training-in-progress.png)\n",
    "\n",
    "Use the following cell to capture the model training progress. **This model should take around 30-45 minutes to be trained.** Key drivers for training time usually are:\n",
    "* **Number of labels** in the label dataset (if provided)\n",
    "* Number of datapoints: this number depends on the **sampling rate**, the **number of time series** and the **time range**.\n",
    "\n",
    "The following method encapsulate a call to the [**DescribeModel**](https://docs.aws.amazon.com/lookout-for-equipment/latest/ug/API_DescribeModel.html) API and collect the model progress by looking at the `Status` field retrieved from this call:"
   ]
  },
  {
   "cell_type": "code",
   "execution_count": 7,
   "id": "technical-happiness",
   "metadata": {},
   "outputs": [
    {
     "name": "stdout",
     "output_type": "stream",
     "text": [
      "2021-04-13 12:52:37 | Model training: IN_PROGRESS\n",
      "2021-04-13 12:57:37 | Model training: IN_PROGRESS\n",
      "2021-04-13 13:02:37 | Model training: IN_PROGRESS\n",
      "2021-04-13 13:07:37 | Model training: IN_PROGRESS\n",
      "2021-04-13 13:12:38 | Model training: IN_PROGRESS\n",
      "2021-04-13 13:17:38 | Model training: IN_PROGRESS\n",
      "2021-04-13 13:22:38 | Model training: IN_PROGRESS\n",
      "2021-04-13 13:27:38 | Model training: SUCCESS\n"
     ]
    }
   ],
   "source": [
    "lookout_model.poll_model_training(sleep_time=300)"
   ]
  },
  {
   "cell_type": "markdown",
   "id": "transsexual-problem",
   "metadata": {},
   "source": [
    "A model is now trained and we can visualize the results of the back testing on the evaluation window selected at the beginning on this notebook:\n",
    "\n",
    "![Training complete](assets/model-performance.png)"
   ]
  },
  {
   "cell_type": "markdown",
   "id": "recent-lambda",
   "metadata": {},
   "source": [
    "In the console, **you can click on each detected event**: Amazon Lookout for Equipment unpacks the ranking and display the top sensors contributing to the detected events.\n",
    "\n",
    "When you open this window, the first event is already selected and this is the detailed view you will get from the console:\n",
    "\n",
    "![Event details](assets/model-diagnostics.png)"
   ]
  },
  {
   "cell_type": "markdown",
   "id": "valued-button",
   "metadata": {},
   "source": [
    "This dataset contains 30 sensors:\n",
    "* If each sensor contributed the same way to this event, every sensors would **equally contribute** to this event (said otherwise, every sensor would have a similar feature importance of `100% / 30 = 3.33%`).\n",
    "* The top sensors (e.g. **Sensor19** with a **5.67% importance**) have a contribution that is significantly higher than this threshold, which is statistically relevant.\n",
    "* If the model continues outputing detected anomalies with a similar ranking, this might push a maintenance operator to go and have a look at the associated components."
   ]
  },
  {
   "cell_type": "markdown",
   "id": "common-affect",
   "metadata": {},
   "source": [
    "## Conclusion\n",
    "---"
   ]
  },
  {
   "cell_type": "markdown",
   "id": "innovative-rebate",
   "metadata": {},
   "source": [
    "In this notebook, we use the dataset created in part 2 of this notebook series and trained an Amazon Lookout for Equipment model.\n",
    "\n",
    "From here you can either head:\n",
    "* To the next notebook where we will **extract the evaluation data** for this model and use it to perform further analysis on the model results: this is optional and just gives you some pointers on how to post-process and visualize the data provided by Amazon Lookout for Equipment.\n",
    "* Or to the **inference scheduling notebook** where we will start the model, feed it some new data and catch the results."
   ]
  }
 ],
 "metadata": {
  "kernelspec": {
   "display_name": "conda_python3",
   "language": "python",
   "name": "conda_python3"
  },
  "language_info": {
   "codemirror_mode": {
    "name": "ipython",
    "version": 3
   },
   "file_extension": ".py",
   "mimetype": "text/x-python",
   "name": "python",
   "nbconvert_exporter": "python",
   "pygments_lexer": "ipython3",
   "version": "3.6.13"
  }
 },
 "nbformat": 4,
 "nbformat_minor": 5
}
