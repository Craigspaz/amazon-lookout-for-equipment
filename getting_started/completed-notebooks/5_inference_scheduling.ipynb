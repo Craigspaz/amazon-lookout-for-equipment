{
 "cells": [
  {
   "cell_type": "markdown",
   "id": "84d5d6af",
   "metadata": {},
   "source": [
    "# **Amazon Lookout for Equipment** - Getting started\n",
    "*Part 5 - Scheduling regular inference calls*"
   ]
  },
  {
   "cell_type": "markdown",
   "id": "20379415",
   "metadata": {},
   "source": [
    "## Initialization\n",
    "---\n",
    "This repository is structured as follow:\n",
    "\n",
    "```sh\n",
    ". lookout-equipment-demo\n",
    "|\n",
    "├── data/\n",
    "|   ├── interim                          # Temporary intermediate data are stored here\n",
    "|   ├── processed                        # Finalized datasets are usually stored here\n",
    "|   |                                    # before they are sent to S3 to allow the\n",
    "|   |                                    # service to reach them\n",
    "|   └── raw                              # Immutable original data are stored here\n",
    "|\n",
    "├── getting_started/\n",
    "|   ├── 1_data_preparation.ipynb\n",
    "|   ├── 2_dataset_creation.ipynb\n",
    "|   ├── 3_model_training.ipynb\n",
    "|   ├── 4_model_evaluation.ipynb\n",
    "|   ├── 5_inference_scheduling.ipynb     <<< THIS NOTEBOOK <<<\n",
    "|   └── 6_cleanup.ipynb\n",
    "|\n",
    "└── utils/\n",
    "    └── lookout_equipment_utils.py\n",
    "```"
   ]
  },
  {
   "cell_type": "markdown",
   "id": "ee94adee",
   "metadata": {},
   "source": [
    "### Notebook configuration update"
   ]
  },
  {
   "cell_type": "code",
   "execution_count": 1,
   "id": "cc4739e9",
   "metadata": {},
   "outputs": [],
   "source": [
    "!pip install --quiet --upgrade sagemaker lookoutequipment"
   ]
  },
  {
   "cell_type": "markdown",
   "id": "c3857c06",
   "metadata": {},
   "source": [
    "### Imports"
   ]
  },
  {
   "cell_type": "code",
   "execution_count": 2,
   "id": "70ef69b6",
   "metadata": {},
   "outputs": [],
   "source": [
    "import boto3\n",
    "import config\n",
    "import datetime\n",
    "import matplotlib.pyplot as plt\n",
    "import matplotlib.ticker as mtick\n",
    "import numpy as np\n",
    "import os\n",
    "import pandas as pd\n",
    "import pytz\n",
    "import sagemaker\n",
    "import sys\n",
    "import time\n",
    "\n",
    "from matplotlib.gridspec import GridSpec\n",
    "\n",
    "# SDK / toolbox for managing Lookout for Equipment API calls:\n",
    "import lookoutequipment as lookout"
   ]
  },
  {
   "cell_type": "markdown",
   "id": "71e42450",
   "metadata": {},
   "source": [
    "### AWS Look & Feel definition for Matplotlib"
   ]
  },
  {
   "cell_type": "code",
   "execution_count": 11,
   "id": "a764018a",
   "metadata": {},
   "outputs": [],
   "source": [
    "from matplotlib import font_manager\n",
    "\n",
    "# Load style sheet:\n",
    "plt.style.use('../utils/aws_sagemaker_light.py')\n",
    "\n",
    "# Get colors from custom AWS palette:\n",
    "prop_cycle = plt.rcParams['axes.prop_cycle']\n",
    "colors = prop_cycle.by_key()['color']"
   ]
  },
  {
   "cell_type": "markdown",
   "id": "9160cf9a",
   "metadata": {},
   "source": [
    "### Parameters"
   ]
  },
  {
   "cell_type": "code",
   "execution_count": 12,
   "id": "46bfd078",
   "metadata": {},
   "outputs": [],
   "source": [
    "TMP_DATA       = os.path.join('..', 'data', 'interim', 'getting-started')\n",
    "PROCESSED_DATA = os.path.join('..', 'data', 'processed', 'getting-started')\n",
    "INFERENCE_DATA = os.path.join(PROCESSED_DATA, 'inference-data')\n",
    "TRAIN_DATA     = os.path.join(PROCESSED_DATA, 'training-data', 'centrifugal-pump')\n",
    "\n",
    "os.makedirs(INFERENCE_DATA, exist_ok=True)\n",
    "os.makedirs(os.path.join(INFERENCE_DATA, 'input'), exist_ok=True)\n",
    "os.makedirs(os.path.join(INFERENCE_DATA, 'output'), exist_ok=True)\n",
    "\n",
    "ROLE_ARN                 = sagemaker.get_execution_role()\n",
    "REGION_NAME              = boto3.session.Session().region_name\n",
    "BUCKET                   = config.BUCKET\n",
    "PREFIX                   = config.PREFIX_INFERENCE\n",
    "INFERENCE_SCHEDULER_NAME = config.INFERENCE_SCHEDULER_NAME\n",
    "MODEL_NAME               = config.MODEL_NAME\n",
    "\n",
    "%matplotlib inline"
   ]
  },
  {
   "cell_type": "markdown",
   "id": "0902c51a",
   "metadata": {},
   "source": [
    "## Create an inference scheduler\n",
    "---\n",
    "While navigating to the model details part of the console, you will see that you have no inference scheduled yet:\n",
    "\n",
    "![Schedule Starting point](assets/schedule_start.png)"
   ]
  },
  {
   "cell_type": "markdown",
   "id": "1228bb7d",
   "metadata": {},
   "source": [
    "### Scheduler configuration\n",
    "Let's create a new inference schedule: some parameters are mandatory, while others offer some added flexibility.\n",
    "\n",
    "#### Mandatory Parameters\n",
    "\n",
    "* Set `upload_frequency` at which the data will be uploaded for inference. Allowed values are `PT5M`, `PT10M`, `PT15M`, `PT30M` and `PT1H`.\n",
    "  * This is both the frequency of the inference scheduler and how often data are uploaded to the source bucket.\n",
    "  *  **Note**: ***the upload frequency must be compatible with the sampling rate selected at training time.*** *For example, if a model was trained with a 30 minutes resampling, asking for 5 minutes won't work and you need to select either PT30M and PT1H for this parameter at inference time.*\n",
    "* Set `input_bucket` to the S3 bucket of your inference data\n",
    "* Set `input_prefix` to the S3 prefix of your inference data\n",
    "* Set `output_bucket` to the S3 bucket where you want inference results\n",
    "* Set `output_prefix` to the S3 prefix where you want inference results\n",
    "* Set `role_arn` to the role to be used to **read** data to infer on and **write** inference output"
   ]
  },
  {
   "cell_type": "markdown",
   "id": "5856d9d0",
   "metadata": {},
   "source": [
    "#### Time zone parameter (optional)\n",
    "\n",
    "You can set `INPUT_TIMEZONE_OFFSET` to the following allowed values: `+00:00`, `+00:30`, `+01:00`, ... `+11:30`, `+12:00`, `-00:00`, `-00:30`, `-01:00`, ... `-11:30`, `-12:00`.\n",
    "\n",
    "This is the timezone the scheduler will use to find the input files to run inference for. A timezone's offset refers to how many hours the timezone is from Coordinated Universal Time (UTC).\n",
    "\n",
    "Let's take an example:\n",
    "* The current date April 5th, 2021 and time is 1pm UTC\n",
    "* You're in India, which is 5 hour 30 ahead of UTC and you set the `INPUT_TIMEZONE_OFFSET` to `+05:30`\n",
    "* If the scheduler wakes up at 1pm UTC, A filename called 20210405**1830**00 will be found (1pm + 5H30 = 6.30pm)\n",
    "\n",
    "Use the following cell to convert time zone identifier (`Europe/Paris`, `US/Central`...) to a time zone offset. You can build a timezone object by leveraging the World Timezone Definition **[available here](https://gist.github.com/heyalexej/8bf688fd67d7199be4a1682b3eec7568)** or by listing the available ones using this code snippet:\n",
    "```python\n",
    "import pytz\n",
    "for tz in pytz.all_timezones:\n",
    "    print tz\n",
    "```\n",
    "If you want to use universal time, replace the timezone string below (`Asia/Calcutta`) by `UTC`:"
   ]
  },
  {
   "cell_type": "code",
   "execution_count": 5,
   "id": "a6944cec",
   "metadata": {},
   "outputs": [
    {
     "data": {
      "text/plain": [
       "'+05:30'"
      ]
     },
     "execution_count": 5,
     "metadata": {},
     "output_type": "execute_result"
    }
   ],
   "source": [
    "utc_timezone = pytz.timezone(\"UTC\")\n",
    "\n",
    "current_timezone = pytz.timezone(\"Asia/Calcutta\")\n",
    "tz_offset = datetime.datetime.now(current_timezone).strftime('%z')\n",
    "tz_offset = tz_offset[:3] + ':' + tz_offset[3:]\n",
    "tz_offset"
   ]
  },
  {
   "cell_type": "markdown",
   "id": "aff0feec",
   "metadata": {},
   "source": [
    "#### Other optional parameters\n",
    "\n",
    "* Set `delay_offset` to the number of minutes you expect the data to be delayed to upload. It's a time buffer to upload data.\n",
    "* Set `timestamp_format`. The allowed values `EPOCH`, `yyyy-MM-dd-HH-mm-ss` or `yyyyMMddHHmmss`. This is the format of timestamp which is the suffix of the input data file name. This is used by Lookout Equipment to understand which files to run inference on (so that you don't need to remove previous files to let the scheduler finds which one to run on).\n",
    "* Set `component_delimiter`. The allowed values `-`, `_` or ` `. This is the delimiter character that is used to separate the component from the timestamp in the input filename."
   ]
  },
  {
   "cell_type": "markdown",
   "id": "034785e2",
   "metadata": {},
   "source": [
    "### Create the inference scheduler\n",
    "The CreateInferenceScheduler API creates a scheduler. The following code prepares the configuration but does not create the scheduler just yet:"
   ]
  },
  {
   "cell_type": "code",
   "execution_count": 6,
   "id": "a9deb74c",
   "metadata": {},
   "outputs": [],
   "source": [
    "scheduler = lookout.LookoutEquipmentScheduler(\n",
    "    scheduler_name=INFERENCE_SCHEDULER_NAME,\n",
    "    model_name=MODEL_NAME\n",
    ")\n",
    "\n",
    "scheduler_params = {\n",
    "    'input_bucket': BUCKET,\n",
    "    'input_prefix': f'{PREFIX}/input/',\n",
    "    'output_bucket': BUCKET,\n",
    "    'output_prefix': f'{PREFIX}/output/',\n",
    "    'role_arn': ROLE_ARN,\n",
    "    'upload_frequency': 'PT5M',\n",
    "    'delay_offset': None,\n",
    "    'timezone_offset': tz_offset,\n",
    "    'component_delimiter': '_',\n",
    "    'timestamp_format': 'yyyyMMddHHmmss'\n",
    "}\n",
    "\n",
    "scheduler.set_parameters(**scheduler_params)"
   ]
  },
  {
   "cell_type": "markdown",
   "id": "d2de9204",
   "metadata": {},
   "source": [
    "## Prepare the inference data\n",
    "---\n",
    "Let's prepare and send some data in the S3 input location our scheduler will monitor: we are going to extract 10 sequences of 5 minutes each (5 minutes being the minimum scheduler frequency). We assume that data are sampled at a rate of one data point per minute meaning that each sequence will be a CSV with 5 rows (to match the scheduler frequency). We have set aside a file we can use for inference. We need to update the timestamps to match the current time and date and then split the file in individual datasets of 5 rows each."
   ]
  },
  {
   "cell_type": "code",
   "execution_count": 6,
   "id": "00ed80d5",
   "metadata": {},
   "outputs": [],
   "source": [
    "# Load the original inference data:\n",
    "inference_fname = os.path.join(TMP_DATA, 'inference-data', 'inference.csv')\n",
    "inference_df = pd.read_csv(inference_fname)\n",
    "inference_df['Timestamp'] = pd.to_datetime(inference_df['Timestamp'])\n",
    "inference_df = inference_df.set_index('Timestamp')\n",
    "\n",
    "# How many sequences do we want to extract:\n",
    "num_sequences = 12\n",
    "\n",
    "# The scheduling frequency in minutes: this **MUST** match the\n",
    "# resampling rate used to train the model:\n",
    "frequency = 5\n",
    "start = inference_df.index.min()\n",
    "for i in range(num_sequences):\n",
    "    end = start + datetime.timedelta(minutes=+frequency - 1)\n",
    "    inference_input = inference_df.loc[start:end, :]\n",
    "    start = start + datetime.timedelta(minutes=+frequency)\n",
    "    \n",
    "    # Rounding time to the previous X minutes \n",
    "    # where X is the selected frequency:\n",
    "    filename_tm = datetime.datetime.now(current_timezone)\n",
    "    filename_tm = filename_tm - datetime.timedelta(\n",
    "        minutes=filename_tm.minute % frequency,\n",
    "        seconds=filename_tm.second,\n",
    "        microseconds=filename_tm.microsecond\n",
    "    )\n",
    "    filename_tm = filename_tm + datetime.timedelta(minutes=+frequency * (i))\n",
    "    current_timestamp = (filename_tm).strftime(format='%Y%m%d%H%M%S')\n",
    "    \n",
    "    # The timestamp inside the file are in UTC and are not linked to the current timezone:\n",
    "    timestamp_tm = datetime.datetime.now(utc_timezone)\n",
    "    timestamp_tm = timestamp_tm - datetime.timedelta(\n",
    "        minutes=timestamp_tm.minute % frequency,\n",
    "        seconds=timestamp_tm.second,\n",
    "        microseconds=timestamp_tm.microsecond\n",
    "    )\n",
    "    timestamp_tm = timestamp_tm + datetime.timedelta(minutes=+frequency * (i))\n",
    "    \n",
    "    # We need to reset the index to match the time \n",
    "    # at which the scheduler will run inference:\n",
    "    new_index = pd.date_range(\n",
    "        start=timestamp_tm,\n",
    "        periods=inference_input.shape[0], \n",
    "        freq='1min'\n",
    "    )\n",
    "    inference_input.index = new_index\n",
    "    inference_input.index.name = 'Timestamp'\n",
    "    inference_input = inference_input.reset_index()\n",
    "    inference_input['Timestamp'] = inference_input['Timestamp'].dt.strftime('%Y-%m-%dT%H:%M:%S.%f')\n",
    "    \n",
    "    # Export this file in CSV format:\n",
    "    scheduled_fname = os.path.join(INFERENCE_DATA, 'input', f'centrifugal-pump_{current_timestamp}.csv')\n",
    "    inference_input.to_csv(scheduled_fname, index=None)\n",
    "    \n",
    "# Upload the whole folder to S3, in the input location:\n",
    "!aws s3 cp --recursive --quiet $INFERENCE_DATA/input s3://$BUCKET/$PREFIX/input"
   ]
  },
  {
   "cell_type": "markdown",
   "id": "0910533a",
   "metadata": {},
   "source": [
    "Our S3 bucket is now in the following state: this emulates what you could expect if your industrial information system was sending a new sample of data every five minutes.\n",
    "\n",
    "Note how:\n",
    "* Every files are located in the same folder\n",
    "* Each file has the recorded timestamp in its name\n",
    "* The timestamps are rounding to the closest 5 minutes (as our scheduler is configured to wake up every 5 minutes)\n",
    "\n",
    "![Inference input](assets/schedule_inference_s3_data.png)"
   ]
  },
  {
   "cell_type": "markdown",
   "id": "2f01a14b",
   "metadata": {},
   "source": [
    "Now that we've prepared the data, we can create the scheduler by running:\n",
    "\n",
    "```python\n",
    "create_scheduler_response = lookout_client.create_inference_scheduler({\n",
    "    'ClientToken': uuid.uuid4().hex\n",
    "})\n",
    "```\n",
    "\n",
    "The following method encapsulates the call to the [**CreateInferenceScheduler**](https://docs.aws.amazon.com/lookout-for-equipment/latest/ug/API_CreateInferenceScheduler.html) API:"
   ]
  },
  {
   "cell_type": "code",
   "execution_count": 10,
   "id": "210f3c2b",
   "metadata": {},
   "outputs": [
    {
     "name": "stdout",
     "output_type": "stream",
     "text": [
      "===== Polling Inference Scheduler Status =====\n",
      "\n",
      "Scheduler Status: PENDING\n",
      "Scheduler Status: RUNNING\n",
      "\n",
      "===== End of Polling Inference Scheduler Status =====\n"
     ]
    }
   ],
   "source": [
    "create_scheduler_response = scheduler.create()"
   ]
  },
  {
   "cell_type": "markdown",
   "id": "7df506c9",
   "metadata": {},
   "source": [
    "Our scheduler is now running and its inference history is currently empty:\n",
    "\n",
    "![Scheduler created](assets/schedule_created.png)"
   ]
  },
  {
   "cell_type": "markdown",
   "id": "4d964502",
   "metadata": {},
   "source": [
    "## Get inference results\n",
    "---"
   ]
  },
  {
   "cell_type": "markdown",
   "id": "cee49151",
   "metadata": {},
   "source": [
    "### List inference executions"
   ]
  },
  {
   "cell_type": "markdown",
   "id": "e9f3fca9",
   "metadata": {},
   "source": [
    "**Let's now wait for 5-15 minutes to give some time to the scheduler to run its first inferences.** Once the wait is over, we can use the ListInferenceExecution API for our current inference scheduler. The only mandatory parameter is the scheduler name.\n",
    "\n",
    "You can also choose a time period for which you want to query inference executions for. If you don't specify it, then all executions for an inference scheduler will be listed. If you want to specify the time range, you can do this:\n",
    "\n",
    "```python\n",
    "START_TIME_FOR_INFERENCE_EXECUTIONS = datetime.datetime(2010,1,3,0,0,0)\n",
    "END_TIME_FOR_INFERENCE_EXECUTIONS = datetime.datetime(2010,1,5,0,0,0)\n",
    "```\n",
    "\n",
    "Which means the executions after `2010-01-03 00:00:00` and before `2010-01-05 00:00:00` will be listed.\n",
    "\n",
    "You can also choose to query for executions in particular status, the allowed status are `IN_PROGRESS`, `SUCCESS` and `FAILED`.\n",
    "\n",
    "The following cell use `scheduler.list_inference_executions()` as a wrapper around the [**ListInferenceExecutions**](https://docs.aws.amazon.com/lookout-for-equipment/latest/ug/API_ListInferenceExecutions.html) API:\n",
    "\n",
    "```python\n",
    "    list_executions_response = lookout_client.list_inference_executions({\n",
    "        \"MaxResults\": 50,\n",
    "        \"InferenceSchedulerName\": INFERENCE_SCHEDULER_NAME,\n",
    "        \"Status\": EXECUTION_STATUS,\n",
    "        \"DataStartTimeAfter\": START_TIME_FOR_INFERENCE_EXECUTIONS,\n",
    "        \"DataEndTimeBefore\": END_TIME_FOR_INFERENCE_EXECUTIONS\n",
    "    })\n",
    "```"
   ]
  },
  {
   "cell_type": "code",
   "execution_count": 24,
   "id": "45a55a2c",
   "metadata": {},
   "outputs": [
    {
     "name": "stdout",
     "output_type": "stream",
     "text": [
      "FIRST INFERENCE EXECUTED\n",
      "\n",
      "15 inference execution(s) found.\n",
      "Displaying the first three ones:\n"
     ]
    },
    {
     "data": {
      "text/plain": [
       "[{'ModelName': 'getting-started-pump-model',\n",
       "  'ModelArn': 'arn:aws:lookoutequipment:eu-west-1:123031033346:model/getting-started-pump-model/87f5813f-1744-4553-8741-e0673154e764',\n",
       "  'InferenceSchedulerName': 'getting-started-pump-scheduler',\n",
       "  'InferenceSchedulerArn': 'arn:aws:lookoutequipment:eu-west-1:123031033346:inference-scheduler/getting-started-pump-scheduler/6afe56af-1ebe-48d6-a0e6-43687abfe645',\n",
       "  'ScheduledStartTime': datetime.datetime(2022, 3, 30, 11, 5, tzinfo=tzlocal()),\n",
       "  'DataStartTime': datetime.datetime(2022, 3, 30, 11, 0, tzinfo=tzlocal()),\n",
       "  'DataEndTime': datetime.datetime(2022, 3, 30, 11, 5, tzinfo=tzlocal()),\n",
       "  'DataInputConfiguration': {'S3InputConfiguration': {'Bucket': 'lookout-equipment-getting-started',\n",
       "    'Prefix': 'getting_started/inference-data/input/'}},\n",
       "  'DataOutputConfiguration': {'S3OutputConfiguration': {'Bucket': 'lookout-equipment-getting-started',\n",
       "    'Prefix': 'getting_started/inference-data/output/'}},\n",
       "  'Status': 'FAILED',\n",
       "  'FailedReason': \"Could not find data file for sensor centrifugal-pump within expected range of (2022-03-30T11:00:00Z, 2022-03-30T11:05:00Z]. Please ensure data is present for all sensors of the machine under prefix 's3://getting_started/inference-data/input/getting_started/inference-data/input/centrifugal-pump_20220330162500' ~ 's3://getting_started/inference-data/input/getting_started/inference-data/input/centrifugal-pump_20220330164000'\"},\n",
       " {'ModelName': 'getting-started-pump-model',\n",
       "  'ModelArn': 'arn:aws:lookoutequipment:eu-west-1:123031033346:model/getting-started-pump-model/87f5813f-1744-4553-8741-e0673154e764',\n",
       "  'InferenceSchedulerName': 'getting-started-pump-scheduler',\n",
       "  'InferenceSchedulerArn': 'arn:aws:lookoutequipment:eu-west-1:123031033346:inference-scheduler/getting-started-pump-scheduler/6afe56af-1ebe-48d6-a0e6-43687abfe645',\n",
       "  'ScheduledStartTime': datetime.datetime(2022, 3, 30, 11, 0, tzinfo=tzlocal()),\n",
       "  'DataStartTime': datetime.datetime(2022, 3, 30, 10, 55, tzinfo=tzlocal()),\n",
       "  'DataEndTime': datetime.datetime(2022, 3, 30, 11, 0, tzinfo=tzlocal()),\n",
       "  'DataInputConfiguration': {'S3InputConfiguration': {'Bucket': 'lookout-equipment-getting-started',\n",
       "    'Prefix': 'getting_started/inference-data/input/'}},\n",
       "  'DataOutputConfiguration': {'S3OutputConfiguration': {'Bucket': 'lookout-equipment-getting-started',\n",
       "    'Prefix': 'getting_started/inference-data/output/'}},\n",
       "  'Status': 'FAILED',\n",
       "  'FailedReason': \"Could not find data file for sensor centrifugal-pump within expected range of (2022-03-30T10:55:00Z, 2022-03-30T11:00:00Z]. Please ensure data is present for all sensors of the machine under prefix 's3://getting_started/inference-data/input/getting_started/inference-data/input/centrifugal-pump_20220330162000' ~ 's3://getting_started/inference-data/input/getting_started/inference-data/input/centrifugal-pump_20220330163500'\"},\n",
       " {'ModelName': 'getting-started-pump-model',\n",
       "  'ModelArn': 'arn:aws:lookoutequipment:eu-west-1:123031033346:model/getting-started-pump-model/87f5813f-1744-4553-8741-e0673154e764',\n",
       "  'InferenceSchedulerName': 'getting-started-pump-scheduler',\n",
       "  'InferenceSchedulerArn': 'arn:aws:lookoutequipment:eu-west-1:123031033346:inference-scheduler/getting-started-pump-scheduler/6afe56af-1ebe-48d6-a0e6-43687abfe645',\n",
       "  'ScheduledStartTime': datetime.datetime(2022, 3, 30, 10, 55, tzinfo=tzlocal()),\n",
       "  'DataStartTime': datetime.datetime(2022, 3, 30, 10, 50, tzinfo=tzlocal()),\n",
       "  'DataEndTime': datetime.datetime(2022, 3, 30, 10, 55, tzinfo=tzlocal()),\n",
       "  'DataInputConfiguration': {'S3InputConfiguration': {'Bucket': 'lookout-equipment-getting-started',\n",
       "    'Prefix': 'getting_started/inference-data/input/'}},\n",
       "  'DataOutputConfiguration': {'S3OutputConfiguration': {'Bucket': 'lookout-equipment-getting-started',\n",
       "    'Prefix': 'getting_started/inference-data/output/'}},\n",
       "  'Status': 'FAILED',\n",
       "  'FailedReason': 'Could not find data for sensor centrifugal-pump within expected time range of (2022-03-30T10:50:00Z, 2022-03-30T10:55:00Z] while searching in the given data range of (2022-03-30T10:45Z, 2022-03-30T10:49Z). Please ensure data is present for all sensors of the machine and ensure there is data within the expected time range.'}]"
      ]
     },
     "execution_count": 24,
     "metadata": {},
     "output_type": "execute_result"
    }
   ],
   "source": [
    "START_TIME_FOR_INFERENCE_EXECUTIONS = None\n",
    "END_TIME_FOR_INFERENCE_EXECUTIONS = None\n",
    "EXECUTION_STATUS = None\n",
    "\n",
    "execution_summaries = []\n",
    "\n",
    "while len(execution_summaries) == 0:\n",
    "    execution_summaries = scheduler.list_inference_executions(\n",
    "        start_time=START_TIME_FOR_INFERENCE_EXECUTIONS,\n",
    "        end_time=END_TIME_FOR_INFERENCE_EXECUTIONS,\n",
    "        execution_status=EXECUTION_STATUS\n",
    "    )\n",
    "    if len(execution_summaries) == 0:\n",
    "        print('WAITING FOR THE FIRST INFERENCE EXECUTION')\n",
    "        time.sleep(60)\n",
    "        \n",
    "    else:\n",
    "        print('FIRST INFERENCE EXECUTED\\n')\n",
    "        break\n",
    "            \n",
    "print(len(execution_summaries), 'inference execution(s) found.')\n",
    "print('Displaying the first three ones:')\n",
    "execution_summaries[:3]"
   ]
  },
  {
   "cell_type": "markdown",
   "id": "ed7f0b70",
   "metadata": {},
   "source": [
    "We have configured this scheduler to run every five minutes. After at least 5 minutes we can also see the history in the console populated with its first few executions: after an hour or so, we will see that the last ones failed as we only generated 12 files above:\n",
    "\n",
    "![Inference history](assets/schedule_inference_history.png)"
   ]
  },
  {
   "cell_type": "markdown",
   "id": "e9e525e4",
   "metadata": {},
   "source": [
    "When the scheduler starts (for example at `datetime.datetime(2021, 1, 27, 9, 15)`, it looks for **a single** CSV file located in the input location with a filename that contains a timestamp set to the previous step. For example, a file named:\n",
    "\n",
    "* centrifugal-pump_2021012709**10**00.csv will be found and ingested\n",
    "* centrifugal-pump_2021012708**15**00.csv will **not be** ingested (it will be ingested at the next inference execution however)\n",
    "\n",
    "In addition, when opening the file `centrifugal-pump_20210127091000.csv`, it will also open one file before and after this execution time: it will then look for any row with a date that is between the `DataStartTime` and the `DataEndTime` of the inference execution. If it doesn't find such a row in any of these three files, an exception will be thrown: the status of the execution will be marked `Failed`."
   ]
  },
  {
   "cell_type": "markdown",
   "id": "7fed7715",
   "metadata": {},
   "source": [
    "### Download inference results\n",
    "Let's have a look at the content now available in the scheduler output location: each inference execution creates a subfolder in the output directory. The subfolder name is the timestamp (GMT) at which the inference was executed and it contains a single [JSON lines](https://jsonlines.org/) file named `results.jsonl`:\n",
    "\n",
    "![Inference input](assets/schedule_inference_output_data.png)\n",
    "\n",
    "Each execution summary is a JSON document that has the following format:"
   ]
  },
  {
   "cell_type": "code",
   "execution_count": 25,
   "id": "3e06d8df",
   "metadata": {},
   "outputs": [
    {
     "data": {
      "text/plain": [
       "{'ModelName': 'getting-started-pump-model',\n",
       " 'ModelArn': 'arn:aws:lookoutequipment:eu-west-1:123031033346:model/getting-started-pump-model/87f5813f-1744-4553-8741-e0673154e764',\n",
       " 'InferenceSchedulerName': 'getting-started-pump-scheduler',\n",
       " 'InferenceSchedulerArn': 'arn:aws:lookoutequipment:eu-west-1:123031033346:inference-scheduler/getting-started-pump-scheduler/6afe56af-1ebe-48d6-a0e6-43687abfe645',\n",
       " 'ScheduledStartTime': datetime.datetime(2022, 3, 30, 11, 5, tzinfo=tzlocal()),\n",
       " 'DataStartTime': datetime.datetime(2022, 3, 30, 11, 0, tzinfo=tzlocal()),\n",
       " 'DataEndTime': datetime.datetime(2022, 3, 30, 11, 5, tzinfo=tzlocal()),\n",
       " 'DataInputConfiguration': {'S3InputConfiguration': {'Bucket': 'lookout-equipment-getting-started',\n",
       "   'Prefix': 'getting_started/inference-data/input/'}},\n",
       " 'DataOutputConfiguration': {'S3OutputConfiguration': {'Bucket': 'lookout-equipment-getting-started',\n",
       "   'Prefix': 'getting_started/inference-data/output/'}},\n",
       " 'Status': 'FAILED',\n",
       " 'FailedReason': \"Could not find data file for sensor centrifugal-pump within expected range of (2022-03-30T11:00:00Z, 2022-03-30T11:05:00Z]. Please ensure data is present for all sensors of the machine under prefix 's3://getting_started/inference-data/input/getting_started/inference-data/input/centrifugal-pump_20220330162500' ~ 's3://getting_started/inference-data/input/getting_started/inference-data/input/centrifugal-pump_20220330164000'\"}"
      ]
     },
     "execution_count": 25,
     "metadata": {},
     "output_type": "execute_result"
    }
   ],
   "source": [
    "execution_summaries[0]"
   ]
  },
  {
   "cell_type": "markdown",
   "id": "71e41ece",
   "metadata": {},
   "source": [
    "When the `Status` key from the previous JSON result is set to `SUCCESS`, you can collect the results location in the `CustomerResultObject` field. We are now going to loop through each execution result and download each JSON lines files generated by the scheduler. Then we will insert their results into an overall dataframe for further analysis:"
   ]
  },
  {
   "cell_type": "code",
   "execution_count": 26,
   "id": "65aba1f8",
   "metadata": {},
   "outputs": [
    {
     "data": {
      "text/html": [
       "<div>\n",
       "<style scoped>\n",
       "    .dataframe tbody tr th:only-of-type {\n",
       "        vertical-align: middle;\n",
       "    }\n",
       "\n",
       "    .dataframe tbody tr th {\n",
       "        vertical-align: top;\n",
       "    }\n",
       "\n",
       "    .dataframe thead th {\n",
       "        text-align: right;\n",
       "    }\n",
       "</style>\n",
       "<table border=\"1\" class=\"dataframe\">\n",
       "  <thead>\n",
       "    <tr style=\"text-align: right;\">\n",
       "      <th></th>\n",
       "      <th>prediction</th>\n",
       "      <th>anomaly_score</th>\n",
       "      <th>centrifugal-pump\\Sensor0</th>\n",
       "      <th>centrifugal-pump\\Sensor1</th>\n",
       "      <th>centrifugal-pump\\Sensor2</th>\n",
       "      <th>centrifugal-pump\\Sensor3</th>\n",
       "      <th>centrifugal-pump\\Sensor4</th>\n",
       "      <th>centrifugal-pump\\Sensor5</th>\n",
       "      <th>centrifugal-pump\\Sensor6</th>\n",
       "      <th>centrifugal-pump\\Sensor7</th>\n",
       "      <th>...</th>\n",
       "      <th>centrifugal-pump\\Sensor14</th>\n",
       "      <th>centrifugal-pump\\Sensor15</th>\n",
       "      <th>centrifugal-pump\\Sensor16</th>\n",
       "      <th>centrifugal-pump\\Sensor17</th>\n",
       "      <th>centrifugal-pump\\Sensor18</th>\n",
       "      <th>centrifugal-pump\\Sensor19</th>\n",
       "      <th>centrifugal-pump\\Sensor20</th>\n",
       "      <th>centrifugal-pump\\Sensor21</th>\n",
       "      <th>centrifugal-pump\\Sensor22</th>\n",
       "      <th>centrifugal-pump\\Sensor23</th>\n",
       "    </tr>\n",
       "    <tr>\n",
       "      <th>timestamp</th>\n",
       "      <th></th>\n",
       "      <th></th>\n",
       "      <th></th>\n",
       "      <th></th>\n",
       "      <th></th>\n",
       "      <th></th>\n",
       "      <th></th>\n",
       "      <th></th>\n",
       "      <th></th>\n",
       "      <th></th>\n",
       "      <th></th>\n",
       "      <th></th>\n",
       "      <th></th>\n",
       "      <th></th>\n",
       "      <th></th>\n",
       "      <th></th>\n",
       "      <th></th>\n",
       "      <th></th>\n",
       "      <th></th>\n",
       "      <th></th>\n",
       "      <th></th>\n",
       "    </tr>\n",
       "  </thead>\n",
       "  <tbody>\n",
       "    <tr>\n",
       "      <th>2022-03-30 09:51:00</th>\n",
       "      <td>1</td>\n",
       "      <td>0.92249</td>\n",
       "      <td>0.02000</td>\n",
       "      <td>0.02000</td>\n",
       "      <td>0.12000</td>\n",
       "      <td>0.18000</td>\n",
       "      <td>0.14000</td>\n",
       "      <td>0.00000</td>\n",
       "      <td>0.00000</td>\n",
       "      <td>0.00000</td>\n",
       "      <td>...</td>\n",
       "      <td>0.08000</td>\n",
       "      <td>0.00000</td>\n",
       "      <td>0.00000</td>\n",
       "      <td>0.02000</td>\n",
       "      <td>0.02000</td>\n",
       "      <td>0.02000</td>\n",
       "      <td>0.0</td>\n",
       "      <td>0.00000</td>\n",
       "      <td>0.00000</td>\n",
       "      <td>0.00000</td>\n",
       "    </tr>\n",
       "    <tr>\n",
       "      <th>2022-03-30 09:52:00</th>\n",
       "      <td>1</td>\n",
       "      <td>0.94968</td>\n",
       "      <td>0.04361</td>\n",
       "      <td>0.00819</td>\n",
       "      <td>0.04916</td>\n",
       "      <td>0.07374</td>\n",
       "      <td>0.05735</td>\n",
       "      <td>0.02361</td>\n",
       "      <td>0.12987</td>\n",
       "      <td>0.08265</td>\n",
       "      <td>...</td>\n",
       "      <td>0.04458</td>\n",
       "      <td>0.00000</td>\n",
       "      <td>0.00000</td>\n",
       "      <td>0.04361</td>\n",
       "      <td>0.02000</td>\n",
       "      <td>0.04361</td>\n",
       "      <td>0.0</td>\n",
       "      <td>0.01181</td>\n",
       "      <td>0.00000</td>\n",
       "      <td>0.00000</td>\n",
       "    </tr>\n",
       "    <tr>\n",
       "      <th>2022-03-30 09:53:00</th>\n",
       "      <td>1</td>\n",
       "      <td>0.95342</td>\n",
       "      <td>0.06348</td>\n",
       "      <td>0.01940</td>\n",
       "      <td>0.03184</td>\n",
       "      <td>0.06185</td>\n",
       "      <td>0.05124</td>\n",
       "      <td>0.04348</td>\n",
       "      <td>0.08410</td>\n",
       "      <td>0.05352</td>\n",
       "      <td>...</td>\n",
       "      <td>0.03592</td>\n",
       "      <td>0.00000</td>\n",
       "      <td>0.13392</td>\n",
       "      <td>0.02824</td>\n",
       "      <td>0.01295</td>\n",
       "      <td>0.02824</td>\n",
       "      <td>0.0</td>\n",
       "      <td>0.00765</td>\n",
       "      <td>0.00000</td>\n",
       "      <td>0.00000</td>\n",
       "    </tr>\n",
       "    <tr>\n",
       "      <th>2022-03-30 09:54:00</th>\n",
       "      <td>1</td>\n",
       "      <td>0.93590</td>\n",
       "      <td>0.05433</td>\n",
       "      <td>0.01660</td>\n",
       "      <td>0.04744</td>\n",
       "      <td>0.05293</td>\n",
       "      <td>0.04385</td>\n",
       "      <td>0.05164</td>\n",
       "      <td>0.07197</td>\n",
       "      <td>0.04580</td>\n",
       "      <td>...</td>\n",
       "      <td>0.04516</td>\n",
       "      <td>0.00577</td>\n",
       "      <td>0.13480</td>\n",
       "      <td>0.02417</td>\n",
       "      <td>0.01108</td>\n",
       "      <td>0.02417</td>\n",
       "      <td>0.0</td>\n",
       "      <td>0.00654</td>\n",
       "      <td>0.00000</td>\n",
       "      <td>0.00577</td>\n",
       "    </tr>\n",
       "    <tr>\n",
       "      <th>2022-03-30 09:55:00</th>\n",
       "      <td>1</td>\n",
       "      <td>0.90920</td>\n",
       "      <td>0.05577</td>\n",
       "      <td>0.01734</td>\n",
       "      <td>0.04974</td>\n",
       "      <td>0.05125</td>\n",
       "      <td>0.04246</td>\n",
       "      <td>0.05000</td>\n",
       "      <td>0.07159</td>\n",
       "      <td>0.04815</td>\n",
       "      <td>...</td>\n",
       "      <td>0.04437</td>\n",
       "      <td>0.00622</td>\n",
       "      <td>0.13053</td>\n",
       "      <td>0.02530</td>\n",
       "      <td>0.01073</td>\n",
       "      <td>0.02340</td>\n",
       "      <td>0.0</td>\n",
       "      <td>0.00634</td>\n",
       "      <td>0.00063</td>\n",
       "      <td>0.00749</td>\n",
       "    </tr>\n",
       "  </tbody>\n",
       "</table>\n",
       "<p>5 rows × 32 columns</p>\n",
       "</div>"
      ],
      "text/plain": [
       "                     prediction  anomaly_score  centrifugal-pump\\Sensor0  \\\n",
       "timestamp                                                                  \n",
       "2022-03-30 09:51:00           1        0.92249                   0.02000   \n",
       "2022-03-30 09:52:00           1        0.94968                   0.04361   \n",
       "2022-03-30 09:53:00           1        0.95342                   0.06348   \n",
       "2022-03-30 09:54:00           1        0.93590                   0.05433   \n",
       "2022-03-30 09:55:00           1        0.90920                   0.05577   \n",
       "\n",
       "                     centrifugal-pump\\Sensor1  centrifugal-pump\\Sensor2  \\\n",
       "timestamp                                                                 \n",
       "2022-03-30 09:51:00                   0.02000                   0.12000   \n",
       "2022-03-30 09:52:00                   0.00819                   0.04916   \n",
       "2022-03-30 09:53:00                   0.01940                   0.03184   \n",
       "2022-03-30 09:54:00                   0.01660                   0.04744   \n",
       "2022-03-30 09:55:00                   0.01734                   0.04974   \n",
       "\n",
       "                     centrifugal-pump\\Sensor3  centrifugal-pump\\Sensor4  \\\n",
       "timestamp                                                                 \n",
       "2022-03-30 09:51:00                   0.18000                   0.14000   \n",
       "2022-03-30 09:52:00                   0.07374                   0.05735   \n",
       "2022-03-30 09:53:00                   0.06185                   0.05124   \n",
       "2022-03-30 09:54:00                   0.05293                   0.04385   \n",
       "2022-03-30 09:55:00                   0.05125                   0.04246   \n",
       "\n",
       "                     centrifugal-pump\\Sensor5  centrifugal-pump\\Sensor6  \\\n",
       "timestamp                                                                 \n",
       "2022-03-30 09:51:00                   0.00000                   0.00000   \n",
       "2022-03-30 09:52:00                   0.02361                   0.12987   \n",
       "2022-03-30 09:53:00                   0.04348                   0.08410   \n",
       "2022-03-30 09:54:00                   0.05164                   0.07197   \n",
       "2022-03-30 09:55:00                   0.05000                   0.07159   \n",
       "\n",
       "                     centrifugal-pump\\Sensor7  ...  centrifugal-pump\\Sensor14  \\\n",
       "timestamp                                      ...                              \n",
       "2022-03-30 09:51:00                   0.00000  ...                    0.08000   \n",
       "2022-03-30 09:52:00                   0.08265  ...                    0.04458   \n",
       "2022-03-30 09:53:00                   0.05352  ...                    0.03592   \n",
       "2022-03-30 09:54:00                   0.04580  ...                    0.04516   \n",
       "2022-03-30 09:55:00                   0.04815  ...                    0.04437   \n",
       "\n",
       "                     centrifugal-pump\\Sensor15  centrifugal-pump\\Sensor16  \\\n",
       "timestamp                                                                   \n",
       "2022-03-30 09:51:00                    0.00000                    0.00000   \n",
       "2022-03-30 09:52:00                    0.00000                    0.00000   \n",
       "2022-03-30 09:53:00                    0.00000                    0.13392   \n",
       "2022-03-30 09:54:00                    0.00577                    0.13480   \n",
       "2022-03-30 09:55:00                    0.00622                    0.13053   \n",
       "\n",
       "                     centrifugal-pump\\Sensor17  centrifugal-pump\\Sensor18  \\\n",
       "timestamp                                                                   \n",
       "2022-03-30 09:51:00                    0.02000                    0.02000   \n",
       "2022-03-30 09:52:00                    0.04361                    0.02000   \n",
       "2022-03-30 09:53:00                    0.02824                    0.01295   \n",
       "2022-03-30 09:54:00                    0.02417                    0.01108   \n",
       "2022-03-30 09:55:00                    0.02530                    0.01073   \n",
       "\n",
       "                     centrifugal-pump\\Sensor19  centrifugal-pump\\Sensor20  \\\n",
       "timestamp                                                                   \n",
       "2022-03-30 09:51:00                    0.02000                        0.0   \n",
       "2022-03-30 09:52:00                    0.04361                        0.0   \n",
       "2022-03-30 09:53:00                    0.02824                        0.0   \n",
       "2022-03-30 09:54:00                    0.02417                        0.0   \n",
       "2022-03-30 09:55:00                    0.02340                        0.0   \n",
       "\n",
       "                     centrifugal-pump\\Sensor21  centrifugal-pump\\Sensor22  \\\n",
       "timestamp                                                                   \n",
       "2022-03-30 09:51:00                    0.00000                    0.00000   \n",
       "2022-03-30 09:52:00                    0.01181                    0.00000   \n",
       "2022-03-30 09:53:00                    0.00765                    0.00000   \n",
       "2022-03-30 09:54:00                    0.00654                    0.00000   \n",
       "2022-03-30 09:55:00                    0.00634                    0.00063   \n",
       "\n",
       "                     centrifugal-pump\\Sensor23  \n",
       "timestamp                                       \n",
       "2022-03-30 09:51:00                    0.00000  \n",
       "2022-03-30 09:52:00                    0.00000  \n",
       "2022-03-30 09:53:00                    0.00000  \n",
       "2022-03-30 09:54:00                    0.00577  \n",
       "2022-03-30 09:55:00                    0.00749  \n",
       "\n",
       "[5 rows x 32 columns]"
      ]
     },
     "execution_count": 26,
     "metadata": {},
     "output_type": "execute_result"
    }
   ],
   "source": [
    "results_df = scheduler.get_predictions()\n",
    "results_df.head()"
   ]
  },
  {
   "cell_type": "markdown",
   "id": "a0cb0dc4",
   "metadata": {},
   "source": [
    "The content of each JSON lines file follows this format:\n",
    "    \n",
    "```json\n",
    "[\n",
    "    {\n",
    "        'timestamp': '2022-03-30T10:46:00.000000',\n",
    "        'prediction': 1,\n",
    "        'prediction_reason': 'ANOMALY_DETECTED',\n",
    "        'anomaly_score': 0.91945,\n",
    "        'diagnostics': [\n",
    "            {'name': 'centrifugal-pump\\\\Sensor0', 'value': 0.12},\n",
    "            {'name': 'centrifugal-pump\\\\Sensor1', 'value': 0.0},\n",
    "            {'name': 'centrifugal-pump\\\\Sensor2', 'value': 0.0},\n",
    "                                  .\n",
    "                                  .\n",
    "                                  .\n",
    "            {'name': 'centrifugal-pump\\\\Sensor27', 'value': 0.08},\n",
    "            {'name': 'centrifugal-pump\\\\Sensor28', 'value': 0.02},\n",
    "            {'name': 'centrifugal-pump\\\\Sensor29', 'value': 0.02}\n",
    "        ]\n",
    "    }\n",
    "    ...\n",
    "]\n",
    "```\n",
    "Each timestamp found in the file is associated to a prediction: 1 when an anomaly is detected an 0 otherwise. When the `prediction` field is 1 (an anomaly is detected), the `diagnostics` field contains each sensor (with the format `component`\\\\`tag`) and an associated percentage. This percentage corresponds to the magnitude of impact of a given sensor to the detected anomaly. For instance, in the example above, the tag `Sensor0` located on the `centrifugal-pump` component has an estimated 12% magnitude of impact to the anomaly detected at 8pm on April 7th 2021. This dataset has 23 sensors: if each sensor contributed the same way to this event, the impact of each of them would be `100 / 23 = 4.35%`, so 12% is indeed statistically significant."
   ]
  },
  {
   "cell_type": "markdown",
   "id": "094d7f96",
   "metadata": {},
   "source": [
    "### Visualizing the inference results\n",
    "#### Single inference analysis"
   ]
  },
  {
   "cell_type": "markdown",
   "id": "d21c8205",
   "metadata": {},
   "source": [
    "Each detected event have some detailed diagnostics. Let's unpack the details for the first event and plot a similar bar chart than what the console provides when it evaluates a trained model:"
   ]
  },
  {
   "cell_type": "code",
   "execution_count": 27,
   "id": "7dfcb5f9",
   "metadata": {},
   "outputs": [
    {
     "data": {
      "image/png": "[encoded data removed]",
      "text/plain": [
       "<Figure size 864x432 with 1 Axes>"
      ]
     },
     "metadata": {
      "needs_background": "light"
     },
     "output_type": "display_data"
    }
   ],
   "source": [
    "event_details = pd.DataFrame(results_df.iloc[0, 2:]).reset_index()\n",
    "fig, ax = lookout.plot.plot_event_barh(event_details)"
   ]
  },
  {
   "cell_type": "markdown",
   "id": "45ba06d1",
   "metadata": {},
   "source": [
    "As we did in the previous notebook, the above bar chart is already of great help to pinpoint what might be going wrong with your asset. Let's load the initial tags description file we prepared in the first notebook and match the sensors with our initial components to group sensors by component:"
   ]
  },
  {
   "cell_type": "code",
   "execution_count": 28,
   "id": "c6b982f3",
   "metadata": {},
   "outputs": [
    {
     "data": {
      "image/png": "[encoded data removed]",
      "text/plain": [
       "<Figure size 864x360 with 1 Axes>"
      ]
     },
     "metadata": {
      "needs_background": "light"
     },
     "output_type": "display_data"
    }
   ],
   "source": [
    "# Agregate event diagnostics at the component level:\n",
    "tags_description_fname = os.path.join(TMP_DATA, 'tags_description.csv')\n",
    "tags_description_df = pd.read_csv(tags_description_fname)\n",
    "event_details[['asset', 'sensor']] = event_details['name'].str.split('\\\\', expand=True)\n",
    "component_diagnostics = pd.merge(event_details, tags_description_df, how='inner', left_on='sensor', right_on='Tag')[['name', 'value', 'Component']]\n",
    "component_diagnostics = component_diagnostics.groupby(by='Component').sum().sort_values(by='value')\n",
    "\n",
    "# Prepare Y position and values for bar chart:\n",
    "y_pos = np.arange(component_diagnostics.shape[0])\n",
    "values = list(component_diagnostics['value'])\n",
    "\n",
    "# Plot the bar chart:\n",
    "fig = plt.figure(figsize=(12,5))\n",
    "ax = plt.subplot(1,1,1)\n",
    "ax.barh(y_pos, component_diagnostics['value'], align='center')\n",
    "ax.set_yticks(y_pos)\n",
    "ax.set_yticklabels(list(component_diagnostics.index))\n",
    "ax.xaxis.set_major_formatter(mtick.PercentFormatter(1.0))\n",
    "\n",
    "# Add the values in each bar:\n",
    "for i, v in enumerate(values):\n",
    "    ax.text(0.005, i, f'{v*100:.2f}%', color='#FFFFFF', fontweight='bold', verticalalignment='center')\n",
    "    \n",
    "# Show the final plot:\n",
    "plt.show()"
   ]
  },
  {
   "cell_type": "markdown",
   "id": "607e7838",
   "metadata": {},
   "source": [
    "#### Multiple inferences analysis"
   ]
  },
  {
   "cell_type": "markdown",
   "id": "5ca2209e",
   "metadata": {},
   "source": [
    "We can also plot the contribution evolution for the top contributing signals over a period of time: the following graph gives an example of what a real time dashboard could look like to expose the results of an Amazon Lookout for Equipment scheduler.\n",
    "\n",
    "**Note:** The plot stops after a while as there are no more anomaly detected."
   ]
  },
  {
   "cell_type": "code",
   "execution_count": 29,
   "id": "b1921123",
   "metadata": {},
   "outputs": [
    {
     "data": {
      "image/png": "[encoded data removed]",
      "text/plain": [
       "<Figure size 1728x648 with 3 Axes>"
      ]
     },
     "metadata": {
      "needs_background": "light"
     },
     "output_type": "display_data"
    }
   ],
   "source": [
    "fig = plt.figure(figsize=(24,9))\n",
    "gs = GridSpec(nrows=3, ncols=1, height_ratios=[1.0, 0.2, 1.0], hspace=0.35)\n",
    "df = results_df.loc[:, :].copy()\n",
    "\n",
    "plot_start = np.min(df.index)\n",
    "plot_end = np.max(df.index)\n",
    "\n",
    "df = df.loc[plot_start:plot_end]\n",
    "\n",
    "ax1 = fig.add_subplot(gs[0])\n",
    "anomaly_plot = ax1.plot(results_df['anomaly_score'], marker='o', markersize=10)\n",
    "anomaly_plot[0].set_markerfacecolor(colors[5] + '80')\n",
    "ax1.set_xlim((plot_start, plot_end))\n",
    "ax1.set_title(f'Centrifugal pump - Live anomaly detection')\n",
    "ax1.set_xlabel('Raw anomaly score', fontsize=12)\n",
    "\n",
    "ax3 = fig.add_subplot(gs[1])\n",
    "lookout.plot.plot_range(results_df, 'Detected events', colors[5], ax3, column_name='prediction')\n",
    "ax3.set_xlim((plot_start, plot_end))\n",
    "\n",
    "bar_width = 0.0005\n",
    "ax4 = fig.add_subplot(gs[2])\n",
    "bottom_values = np.zeros((len(df.index),))\n",
    "current_tags_list = list(df.iloc[:, 2:].sum().sort_values(ascending=False).head(8).index)\n",
    "for tag in current_tags_list:\n",
    "    plt.bar(x=df.index, height=df[tag], bottom=bottom_values, alpha=0.8, width=bar_width, label=tag.split('\\\\')[1])\n",
    "    bottom_values += df[tag].values\n",
    "    \n",
    "all_other_tags = [t for t in df.columns if t not in current_tags_list][2:]\n",
    "all_other_tags_contrib = df[all_other_tags].sum(axis='columns')\n",
    "plt.bar(x=df.index, height=all_other_tags_contrib, bottom=bottom_values, alpha=0.8, width=bar_width, label='All the others', color='#CCCCCC')\n",
    "\n",
    "ax4.legend(loc='lower center', ncol=5, bbox_to_anchor=(0.5, -0.45))\n",
    "ax4.set_xlabel('Signal importance evolution', fontsize=12)\n",
    "ax4.set_xlim((plot_start, plot_end))\n",
    "\n",
    "plt.show()"
   ]
  },
  {
   "cell_type": "markdown",
   "id": "564d8a43",
   "metadata": {},
   "source": [
    "## Inference scheduler operations\n",
    "---\n",
    "### Stop inference scheduler\n",
    "**Be frugal**, running the scheduler is the main cost driver of Amazon Lookout for Equipment. Use the [**StopInferenceScheduler**](https://docs.aws.amazon.com/lookout-for-equipment/latest/ug/API_StopInferenceScheduler.html) API to stop an already running inference scheduler:\n",
    "\n",
    "```python\n",
    "stop_scheduler_response = lookout_client.stop_inference_scheduler(\n",
    "    InferenceSchedulerName=INFERENCE_SCHEDULER_NAME\n",
    ")\n",
    "```\n",
    "\n",
    "The following method is a wrapper around this API call and will stop the periodic inference executions:"
   ]
  },
  {
   "cell_type": "code",
   "execution_count": 20,
   "id": "818cfd4b",
   "metadata": {},
   "outputs": [
    {
     "name": "stdout",
     "output_type": "stream",
     "text": [
      "===== Polling Inference Scheduler Status =====\n",
      "\n",
      "Scheduler Status: STOPPING\n",
      "Scheduler Status: STOPPED\n",
      "\n",
      "===== End of Polling Inference Scheduler Status =====\n"
     ]
    }
   ],
   "source": [
    "scheduler.stop()"
   ]
  },
  {
   "cell_type": "markdown",
   "id": "27c0096f",
   "metadata": {},
   "source": [
    "### Start an inference scheduler\n",
    "You can restart any `STOPPED` inference scheduler using the [**StartInferenceScheduler**](https://docs.aws.amazon.com/lookout-for-equipment/latest/ug/API_StartInferenceScheduler.html) API:\n",
    "\n",
    "```python\n",
    "start_scheduler_response = lookout_client.start_inference_scheduler(\n",
    "    InferenceSchedulerName=INFERENCE_SCHEDULER_NAME\n",
    ")\n",
    "```\n",
    "\n",
    "The following method is a wrapper around this API call and will start the periodic inference executions:"
   ]
  },
  {
   "cell_type": "code",
   "execution_count": 19,
   "id": "e22314de",
   "metadata": {},
   "outputs": [
    {
     "name": "stdout",
     "output_type": "stream",
     "text": [
      "===== Polling Inference Scheduler Status =====\n",
      "\n",
      "Scheduler Status: PENDING\n",
      "Scheduler Status: RUNNING\n",
      "\n",
      "===== End of Polling Inference Scheduler Status =====\n"
     ]
    }
   ],
   "source": [
    "scheduler.start()"
   ]
  },
  {
   "cell_type": "markdown",
   "id": "5b71a2bd",
   "metadata": {},
   "source": [
    "### Delete an inference scheduler\n",
    "You can delete a **stopped** scheduler you have no more use of: note that you can only have one scheduler per model.\n",
    "\n",
    "```python\n",
    "delete_scheduler_response = lookout_client.delete_inference_scheduler(\n",
    "    InferenceSchedulerName=INFERENCE_SCHEDULER_NAME\n",
    ")\n",
    "```\n",
    "\n",
    "The `scheduler.delete()` method is a wrapper around the [**DeleteInferenceScheduler**](https://docs.aws.amazon.com/lookout-for-equipment/latest/ug/API_DeleteInferenceScheduler.html) API and will delete a stopped scheduler:"
   ]
  },
  {
   "cell_type": "code",
   "execution_count": null,
   "id": "04504b61",
   "metadata": {},
   "outputs": [],
   "source": [
    "scheduler.stop()\n",
    "scheduler.delete()"
   ]
  },
  {
   "cell_type": "markdown",
   "id": "97749b49",
   "metadata": {},
   "source": [
    "## Conclusion\n",
    "---"
   ]
  },
  {
   "cell_type": "markdown",
   "id": "a9b9b72d",
   "metadata": {},
   "source": [
    "In this notebook, we used the model created in part 3 of this notebook, configured a scheduler and extracted the predictions obtained after it executed a few inferences.\n",
    "\n",
    "We also showed how we could post-process the inference results to deliver better insights into the detected events."
   ]
  }
 ],
 "metadata": {
  "kernelspec": {
   "display_name": "conda_python3",
   "language": "python",
   "name": "conda_python3"
  },
  "language_info": {
   "codemirror_mode": {
    "name": "ipython",
    "version": 3
   },
   "file_extension": ".py",
   "mimetype": "text/x-python",
   "name": "python",
   "nbconvert_exporter": "python",
   "pygments_lexer": "ipython3",
   "version": "3.6.13"
  }
 },
 "nbformat": 4,
 "nbformat_minor": 5
}
